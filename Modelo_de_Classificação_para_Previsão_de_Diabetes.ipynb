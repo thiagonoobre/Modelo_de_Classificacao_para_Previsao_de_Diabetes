{
  "nbformat": 4,
  "nbformat_minor": 0,
  "metadata": {
    "colab": {
      "provenance": [],
      "authorship_tag": "ABX9TyPUopinFbLcCUa3dXuo98wZ",
      "include_colab_link": true
    },
    "kernelspec": {
      "name": "python3",
      "display_name": "Python 3"
    },
    "language_info": {
      "name": "python"
    }
  },
  "cells": [
    {
      "cell_type": "markdown",
      "metadata": {
        "id": "view-in-github",
        "colab_type": "text"
      },
      "source": [
        "<a href=\"https://colab.research.google.com/github/thiagonoobre/Modelo_de_Classificacao_para_Previsao_de_Diabetes/blob/main/Modelo_de_Classifica%C3%A7%C3%A3o_para_Previs%C3%A3o_de_Diabetes.ipynb\" target=\"_parent\"><img src=\"https://colab.research.google.com/assets/colab-badge.svg\" alt=\"Open In Colab\"/></a>"
      ]
    },
    {
      "cell_type": "markdown",
      "source": [
        "# 🧪 Projeto de Diagnóstico de Diabetes com Regressão Logística"
      ],
      "metadata": {
        "id": "keF69iiryUgj"
      }
    },
    {
      "cell_type": "markdown",
      "source": [
        "A detecção precoce de diabetes é crucial para a gestão eficaz da doença e a prevenção de complicações graves. Neste projeto, exploramos o conjunto de dados `Pima Indians Diabetes Database` com o objetivo de construir um modelo preditivo de **Regressão Logística** capaz de identificar indivíduos propensos a desenvolver diabetes com base em diversas variáveis clínicas. O desenvolvimento deste modelo visa fornecer uma ferramenta auxiliar para o diagnóstico, contribuindo para intervenções médicas mais rápidas e personalizadas. O notebook detalha todas as etapas, desde a análise exploratória e tratamento de dados até a avaliação aprofundada do desempenho do modelo.\n",
        "\n"
      ],
      "metadata": {
        "id": "tfeLmJK6yWpm"
      }
    },
    {
      "cell_type": "markdown",
      "source": [
        "## 1\\. Introdução\n",
        "- **Problema**: Diagnóstico de diabetes precoce com base em dados clínicos.\n",
        "- **Objetivo**: Criar um modelo preditivo para auxiliar na decisão médica.\n",
        "- **Modelo escolhido**: Regressão Logística.\n"
      ],
      "metadata": {
        "id": "LAXJnxWKygxV"
      }
    },
    {
      "cell_type": "markdown",
      "source": [
        "Referências e Fontes\n",
        "1. Dataset: [Pima Indians Diabetes Database](https://www.kaggle.com/uciml/pima-indians-diabetes-database)\n",
        "2. Scikit-learn Documentation\n"
      ],
      "metadata": {
        "id": "e4sAdNwuBSd4"
      }
    },
    {
      "cell_type": "markdown",
      "source": [
        "## 2\\. Carregamento e Entendimento dos Dados\n",
        "> Nesta etapa, carregamos o dataset e visualizamos suas principais características iniciais.\n"
      ],
      "metadata": {
        "id": "m8XqNU2Hy60f"
      }
    },
    {
      "cell_type": "code",
      "source": [
        "import kagglehub\n",
        "mragpavank_diabetes_path = kagglehub.dataset_download('mragpavank/diabetes')\n",
        "\n",
        "print('Data source import complete.')"
      ],
      "metadata": {
        "colab": {
          "base_uri": "https://localhost:8080/"
        },
        "id": "8RsRNt3fXznx",
        "outputId": "5c8dad77-c410-4bd1-85f8-75cdbee4326f"
      },
      "execution_count": 1,
      "outputs": [
        {
          "output_type": "stream",
          "name": "stdout",
          "text": [
            "Data source import complete.\n"
          ]
        }
      ]
    },
    {
      "cell_type": "code",
      "source": [
        "mragpavank_diabetes_path"
      ],
      "metadata": {
        "colab": {
          "base_uri": "https://localhost:8080/",
          "height": 35
        },
        "id": "TL1uhILCh1Jl",
        "outputId": "2366dd16-486c-49fb-aaa8-048890661e7c"
      },
      "execution_count": 2,
      "outputs": [
        {
          "output_type": "execute_result",
          "data": {
            "text/plain": [
              "'/kaggle/input/diabetes'"
            ],
            "application/vnd.google.colaboratory.intrinsic+json": {
              "type": "string"
            }
          },
          "metadata": {},
          "execution_count": 2
        }
      ]
    },
    {
      "cell_type": "markdown",
      "source": [
        "### 2.1. imports"
      ],
      "metadata": {
        "id": "P-GaNaM0zYQT"
      }
    },
    {
      "cell_type": "code",
      "source": [
        "import numpy as np\n",
        "import pandas as pd\n",
        "import matplotlib.pyplot as plt\n",
        "import seaborn as sns\n",
        "\n",
        "from sklearn.linear_model import LogisticRegression\n",
        "from sklearn.preprocessing import StandardScaler\n",
        "from sklearn.preprocessing import RobustScaler\n",
        "from sklearn.model_selection import train_test_split\n",
        "from sklearn.pipeline import make_pipeline\n",
        "from sklearn.impute import KNNImputer\n",
        "from sklearn.metrics import confusion_matrix, ConfusionMatrixDisplay\n",
        "from sklearn.metrics import classification_report\n",
        "from sklearn.metrics import roc_curve, roc_auc_score\n",
        "from sklearn.metrics import accuracy_score, precision_score, recall_score, f1_score\n",
        "from sklearn.metrics import precision_recall_curve, average_precision_score\n",
        "from scipy import stats\n",
        "\n",
        "from statsmodels.stats.outliers_influence import variance_inflation_factor\n",
        "from statsmodels.tools.tools import add_constant\n"
      ],
      "metadata": {
        "id": "DctzzHINfuWm"
      },
      "execution_count": 3,
      "outputs": []
    },
    {
      "cell_type": "code",
      "source": [
        "df = pd.read_csv('/kaggle/input/diabetes/diabetes.csv')"
      ],
      "metadata": {
        "id": "ifThMUbkiNnH"
      },
      "execution_count": 4,
      "outputs": []
    },
    {
      "cell_type": "code",
      "source": [
        "df.head()"
      ],
      "metadata": {
        "colab": {
          "base_uri": "https://localhost:8080/",
          "height": 206
        },
        "id": "v98ugXopihwx",
        "outputId": "4174d325-d3bf-4110-a403-d3a0ce3f36ba"
      },
      "execution_count": 5,
      "outputs": [
        {
          "output_type": "execute_result",
          "data": {
            "text/plain": [
              "   Pregnancies  Glucose  BloodPressure  SkinThickness  Insulin   BMI  \\\n",
              "0            6      148             72             35        0  33.6   \n",
              "1            1       85             66             29        0  26.6   \n",
              "2            8      183             64              0        0  23.3   \n",
              "3            1       89             66             23       94  28.1   \n",
              "4            0      137             40             35      168  43.1   \n",
              "\n",
              "   DiabetesPedigreeFunction  Age  Outcome  \n",
              "0                     0.627   50        1  \n",
              "1                     0.351   31        0  \n",
              "2                     0.672   32        1  \n",
              "3                     0.167   21        0  \n",
              "4                     2.288   33        1  "
            ],
            "text/html": [
              "\n",
              "  <div id=\"df-128af1c7-2bfe-44f2-be4e-c95bbf4fef27\" class=\"colab-df-container\">\n",
              "    <div>\n",
              "<style scoped>\n",
              "    .dataframe tbody tr th:only-of-type {\n",
              "        vertical-align: middle;\n",
              "    }\n",
              "\n",
              "    .dataframe tbody tr th {\n",
              "        vertical-align: top;\n",
              "    }\n",
              "\n",
              "    .dataframe thead th {\n",
              "        text-align: right;\n",
              "    }\n",
              "</style>\n",
              "<table border=\"1\" class=\"dataframe\">\n",
              "  <thead>\n",
              "    <tr style=\"text-align: right;\">\n",
              "      <th></th>\n",
              "      <th>Pregnancies</th>\n",
              "      <th>Glucose</th>\n",
              "      <th>BloodPressure</th>\n",
              "      <th>SkinThickness</th>\n",
              "      <th>Insulin</th>\n",
              "      <th>BMI</th>\n",
              "      <th>DiabetesPedigreeFunction</th>\n",
              "      <th>Age</th>\n",
              "      <th>Outcome</th>\n",
              "    </tr>\n",
              "  </thead>\n",
              "  <tbody>\n",
              "    <tr>\n",
              "      <th>0</th>\n",
              "      <td>6</td>\n",
              "      <td>148</td>\n",
              "      <td>72</td>\n",
              "      <td>35</td>\n",
              "      <td>0</td>\n",
              "      <td>33.6</td>\n",
              "      <td>0.627</td>\n",
              "      <td>50</td>\n",
              "      <td>1</td>\n",
              "    </tr>\n",
              "    <tr>\n",
              "      <th>1</th>\n",
              "      <td>1</td>\n",
              "      <td>85</td>\n",
              "      <td>66</td>\n",
              "      <td>29</td>\n",
              "      <td>0</td>\n",
              "      <td>26.6</td>\n",
              "      <td>0.351</td>\n",
              "      <td>31</td>\n",
              "      <td>0</td>\n",
              "    </tr>\n",
              "    <tr>\n",
              "      <th>2</th>\n",
              "      <td>8</td>\n",
              "      <td>183</td>\n",
              "      <td>64</td>\n",
              "      <td>0</td>\n",
              "      <td>0</td>\n",
              "      <td>23.3</td>\n",
              "      <td>0.672</td>\n",
              "      <td>32</td>\n",
              "      <td>1</td>\n",
              "    </tr>\n",
              "    <tr>\n",
              "      <th>3</th>\n",
              "      <td>1</td>\n",
              "      <td>89</td>\n",
              "      <td>66</td>\n",
              "      <td>23</td>\n",
              "      <td>94</td>\n",
              "      <td>28.1</td>\n",
              "      <td>0.167</td>\n",
              "      <td>21</td>\n",
              "      <td>0</td>\n",
              "    </tr>\n",
              "    <tr>\n",
              "      <th>4</th>\n",
              "      <td>0</td>\n",
              "      <td>137</td>\n",
              "      <td>40</td>\n",
              "      <td>35</td>\n",
              "      <td>168</td>\n",
              "      <td>43.1</td>\n",
              "      <td>2.288</td>\n",
              "      <td>33</td>\n",
              "      <td>1</td>\n",
              "    </tr>\n",
              "  </tbody>\n",
              "</table>\n",
              "</div>\n",
              "    <div class=\"colab-df-buttons\">\n",
              "\n",
              "  <div class=\"colab-df-container\">\n",
              "    <button class=\"colab-df-convert\" onclick=\"convertToInteractive('df-128af1c7-2bfe-44f2-be4e-c95bbf4fef27')\"\n",
              "            title=\"Convert this dataframe to an interactive table.\"\n",
              "            style=\"display:none;\">\n",
              "\n",
              "  <svg xmlns=\"http://www.w3.org/2000/svg\" height=\"24px\" viewBox=\"0 -960 960 960\">\n",
              "    <path d=\"M120-120v-720h720v720H120Zm60-500h600v-160H180v160Zm220 220h160v-160H400v160Zm0 220h160v-160H400v160ZM180-400h160v-160H180v160Zm440 0h160v-160H620v160ZM180-180h160v-160H180v160Zm440 0h160v-160H620v160Z\"/>\n",
              "  </svg>\n",
              "    </button>\n",
              "\n",
              "  <style>\n",
              "    .colab-df-container {\n",
              "      display:flex;\n",
              "      gap: 12px;\n",
              "    }\n",
              "\n",
              "    .colab-df-convert {\n",
              "      background-color: #E8F0FE;\n",
              "      border: none;\n",
              "      border-radius: 50%;\n",
              "      cursor: pointer;\n",
              "      display: none;\n",
              "      fill: #1967D2;\n",
              "      height: 32px;\n",
              "      padding: 0 0 0 0;\n",
              "      width: 32px;\n",
              "    }\n",
              "\n",
              "    .colab-df-convert:hover {\n",
              "      background-color: #E2EBFA;\n",
              "      box-shadow: 0px 1px 2px rgba(60, 64, 67, 0.3), 0px 1px 3px 1px rgba(60, 64, 67, 0.15);\n",
              "      fill: #174EA6;\n",
              "    }\n",
              "\n",
              "    .colab-df-buttons div {\n",
              "      margin-bottom: 4px;\n",
              "    }\n",
              "\n",
              "    [theme=dark] .colab-df-convert {\n",
              "      background-color: #3B4455;\n",
              "      fill: #D2E3FC;\n",
              "    }\n",
              "\n",
              "    [theme=dark] .colab-df-convert:hover {\n",
              "      background-color: #434B5C;\n",
              "      box-shadow: 0px 1px 3px 1px rgba(0, 0, 0, 0.15);\n",
              "      filter: drop-shadow(0px 1px 2px rgba(0, 0, 0, 0.3));\n",
              "      fill: #FFFFFF;\n",
              "    }\n",
              "  </style>\n",
              "\n",
              "    <script>\n",
              "      const buttonEl =\n",
              "        document.querySelector('#df-128af1c7-2bfe-44f2-be4e-c95bbf4fef27 button.colab-df-convert');\n",
              "      buttonEl.style.display =\n",
              "        google.colab.kernel.accessAllowed ? 'block' : 'none';\n",
              "\n",
              "      async function convertToInteractive(key) {\n",
              "        const element = document.querySelector('#df-128af1c7-2bfe-44f2-be4e-c95bbf4fef27');\n",
              "        const dataTable =\n",
              "          await google.colab.kernel.invokeFunction('convertToInteractive',\n",
              "                                                    [key], {});\n",
              "        if (!dataTable) return;\n",
              "\n",
              "        const docLinkHtml = 'Like what you see? Visit the ' +\n",
              "          '<a target=\"_blank\" href=https://colab.research.google.com/notebooks/data_table.ipynb>data table notebook</a>'\n",
              "          + ' to learn more about interactive tables.';\n",
              "        element.innerHTML = '';\n",
              "        dataTable['output_type'] = 'display_data';\n",
              "        await google.colab.output.renderOutput(dataTable, element);\n",
              "        const docLink = document.createElement('div');\n",
              "        docLink.innerHTML = docLinkHtml;\n",
              "        element.appendChild(docLink);\n",
              "      }\n",
              "    </script>\n",
              "  </div>\n",
              "\n",
              "\n",
              "    <div id=\"df-56d0ce15-beff-4b3a-937d-7bef43eaee9b\">\n",
              "      <button class=\"colab-df-quickchart\" onclick=\"quickchart('df-56d0ce15-beff-4b3a-937d-7bef43eaee9b')\"\n",
              "                title=\"Suggest charts\"\n",
              "                style=\"display:none;\">\n",
              "\n",
              "<svg xmlns=\"http://www.w3.org/2000/svg\" height=\"24px\"viewBox=\"0 0 24 24\"\n",
              "     width=\"24px\">\n",
              "    <g>\n",
              "        <path d=\"M19 3H5c-1.1 0-2 .9-2 2v14c0 1.1.9 2 2 2h14c1.1 0 2-.9 2-2V5c0-1.1-.9-2-2-2zM9 17H7v-7h2v7zm4 0h-2V7h2v10zm4 0h-2v-4h2v4z\"/>\n",
              "    </g>\n",
              "</svg>\n",
              "      </button>\n",
              "\n",
              "<style>\n",
              "  .colab-df-quickchart {\n",
              "      --bg-color: #E8F0FE;\n",
              "      --fill-color: #1967D2;\n",
              "      --hover-bg-color: #E2EBFA;\n",
              "      --hover-fill-color: #174EA6;\n",
              "      --disabled-fill-color: #AAA;\n",
              "      --disabled-bg-color: #DDD;\n",
              "  }\n",
              "\n",
              "  [theme=dark] .colab-df-quickchart {\n",
              "      --bg-color: #3B4455;\n",
              "      --fill-color: #D2E3FC;\n",
              "      --hover-bg-color: #434B5C;\n",
              "      --hover-fill-color: #FFFFFF;\n",
              "      --disabled-bg-color: #3B4455;\n",
              "      --disabled-fill-color: #666;\n",
              "  }\n",
              "\n",
              "  .colab-df-quickchart {\n",
              "    background-color: var(--bg-color);\n",
              "    border: none;\n",
              "    border-radius: 50%;\n",
              "    cursor: pointer;\n",
              "    display: none;\n",
              "    fill: var(--fill-color);\n",
              "    height: 32px;\n",
              "    padding: 0;\n",
              "    width: 32px;\n",
              "  }\n",
              "\n",
              "  .colab-df-quickchart:hover {\n",
              "    background-color: var(--hover-bg-color);\n",
              "    box-shadow: 0 1px 2px rgba(60, 64, 67, 0.3), 0 1px 3px 1px rgba(60, 64, 67, 0.15);\n",
              "    fill: var(--button-hover-fill-color);\n",
              "  }\n",
              "\n",
              "  .colab-df-quickchart-complete:disabled,\n",
              "  .colab-df-quickchart-complete:disabled:hover {\n",
              "    background-color: var(--disabled-bg-color);\n",
              "    fill: var(--disabled-fill-color);\n",
              "    box-shadow: none;\n",
              "  }\n",
              "\n",
              "  .colab-df-spinner {\n",
              "    border: 2px solid var(--fill-color);\n",
              "    border-color: transparent;\n",
              "    border-bottom-color: var(--fill-color);\n",
              "    animation:\n",
              "      spin 1s steps(1) infinite;\n",
              "  }\n",
              "\n",
              "  @keyframes spin {\n",
              "    0% {\n",
              "      border-color: transparent;\n",
              "      border-bottom-color: var(--fill-color);\n",
              "      border-left-color: var(--fill-color);\n",
              "    }\n",
              "    20% {\n",
              "      border-color: transparent;\n",
              "      border-left-color: var(--fill-color);\n",
              "      border-top-color: var(--fill-color);\n",
              "    }\n",
              "    30% {\n",
              "      border-color: transparent;\n",
              "      border-left-color: var(--fill-color);\n",
              "      border-top-color: var(--fill-color);\n",
              "      border-right-color: var(--fill-color);\n",
              "    }\n",
              "    40% {\n",
              "      border-color: transparent;\n",
              "      border-right-color: var(--fill-color);\n",
              "      border-top-color: var(--fill-color);\n",
              "    }\n",
              "    60% {\n",
              "      border-color: transparent;\n",
              "      border-right-color: var(--fill-color);\n",
              "    }\n",
              "    80% {\n",
              "      border-color: transparent;\n",
              "      border-right-color: var(--fill-color);\n",
              "      border-bottom-color: var(--fill-color);\n",
              "    }\n",
              "    90% {\n",
              "      border-color: transparent;\n",
              "      border-bottom-color: var(--fill-color);\n",
              "    }\n",
              "  }\n",
              "</style>\n",
              "\n",
              "      <script>\n",
              "        async function quickchart(key) {\n",
              "          const quickchartButtonEl =\n",
              "            document.querySelector('#' + key + ' button');\n",
              "          quickchartButtonEl.disabled = true;  // To prevent multiple clicks.\n",
              "          quickchartButtonEl.classList.add('colab-df-spinner');\n",
              "          try {\n",
              "            const charts = await google.colab.kernel.invokeFunction(\n",
              "                'suggestCharts', [key], {});\n",
              "          } catch (error) {\n",
              "            console.error('Error during call to suggestCharts:', error);\n",
              "          }\n",
              "          quickchartButtonEl.classList.remove('colab-df-spinner');\n",
              "          quickchartButtonEl.classList.add('colab-df-quickchart-complete');\n",
              "        }\n",
              "        (() => {\n",
              "          let quickchartButtonEl =\n",
              "            document.querySelector('#df-56d0ce15-beff-4b3a-937d-7bef43eaee9b button');\n",
              "          quickchartButtonEl.style.display =\n",
              "            google.colab.kernel.accessAllowed ? 'block' : 'none';\n",
              "        })();\n",
              "      </script>\n",
              "    </div>\n",
              "\n",
              "    </div>\n",
              "  </div>\n"
            ],
            "application/vnd.google.colaboratory.intrinsic+json": {
              "type": "dataframe",
              "variable_name": "df",
              "summary": "{\n  \"name\": \"df\",\n  \"rows\": 768,\n  \"fields\": [\n    {\n      \"column\": \"Pregnancies\",\n      \"properties\": {\n        \"dtype\": \"number\",\n        \"std\": 3,\n        \"min\": 0,\n        \"max\": 17,\n        \"num_unique_values\": 17,\n        \"samples\": [\n          6,\n          1,\n          3\n        ],\n        \"semantic_type\": \"\",\n        \"description\": \"\"\n      }\n    },\n    {\n      \"column\": \"Glucose\",\n      \"properties\": {\n        \"dtype\": \"number\",\n        \"std\": 31,\n        \"min\": 0,\n        \"max\": 199,\n        \"num_unique_values\": 136,\n        \"samples\": [\n          151,\n          101,\n          112\n        ],\n        \"semantic_type\": \"\",\n        \"description\": \"\"\n      }\n    },\n    {\n      \"column\": \"BloodPressure\",\n      \"properties\": {\n        \"dtype\": \"number\",\n        \"std\": 19,\n        \"min\": 0,\n        \"max\": 122,\n        \"num_unique_values\": 47,\n        \"samples\": [\n          86,\n          46,\n          85\n        ],\n        \"semantic_type\": \"\",\n        \"description\": \"\"\n      }\n    },\n    {\n      \"column\": \"SkinThickness\",\n      \"properties\": {\n        \"dtype\": \"number\",\n        \"std\": 15,\n        \"min\": 0,\n        \"max\": 99,\n        \"num_unique_values\": 51,\n        \"samples\": [\n          7,\n          12,\n          48\n        ],\n        \"semantic_type\": \"\",\n        \"description\": \"\"\n      }\n    },\n    {\n      \"column\": \"Insulin\",\n      \"properties\": {\n        \"dtype\": \"number\",\n        \"std\": 115,\n        \"min\": 0,\n        \"max\": 846,\n        \"num_unique_values\": 186,\n        \"samples\": [\n          52,\n          41,\n          183\n        ],\n        \"semantic_type\": \"\",\n        \"description\": \"\"\n      }\n    },\n    {\n      \"column\": \"BMI\",\n      \"properties\": {\n        \"dtype\": \"number\",\n        \"std\": 7.8841603203754405,\n        \"min\": 0.0,\n        \"max\": 67.1,\n        \"num_unique_values\": 248,\n        \"samples\": [\n          19.9,\n          31.0,\n          38.1\n        ],\n        \"semantic_type\": \"\",\n        \"description\": \"\"\n      }\n    },\n    {\n      \"column\": \"DiabetesPedigreeFunction\",\n      \"properties\": {\n        \"dtype\": \"number\",\n        \"std\": 0.33132859501277484,\n        \"min\": 0.078,\n        \"max\": 2.42,\n        \"num_unique_values\": 517,\n        \"samples\": [\n          1.731,\n          0.426,\n          0.138\n        ],\n        \"semantic_type\": \"\",\n        \"description\": \"\"\n      }\n    },\n    {\n      \"column\": \"Age\",\n      \"properties\": {\n        \"dtype\": \"number\",\n        \"std\": 11,\n        \"min\": 21,\n        \"max\": 81,\n        \"num_unique_values\": 52,\n        \"samples\": [\n          60,\n          47,\n          72\n        ],\n        \"semantic_type\": \"\",\n        \"description\": \"\"\n      }\n    },\n    {\n      \"column\": \"Outcome\",\n      \"properties\": {\n        \"dtype\": \"number\",\n        \"std\": 0,\n        \"min\": 0,\n        \"max\": 1,\n        \"num_unique_values\": 2,\n        \"samples\": [\n          0,\n          1\n        ],\n        \"semantic_type\": \"\",\n        \"description\": \"\"\n      }\n    }\n  ]\n}"
            }
          },
          "metadata": {},
          "execution_count": 5
        }
      ]
    },
    {
      "cell_type": "code",
      "source": [
        "df.Outcome.value_counts()"
      ],
      "metadata": {
        "colab": {
          "base_uri": "https://localhost:8080/",
          "height": 178
        },
        "id": "8k1vLJZsir-e",
        "outputId": "392422bb-b15e-46c4-9c17-7ad4694a1040"
      },
      "execution_count": 6,
      "outputs": [
        {
          "output_type": "execute_result",
          "data": {
            "text/plain": [
              "Outcome\n",
              "0    500\n",
              "1    268\n",
              "Name: count, dtype: int64"
            ],
            "text/html": [
              "<div>\n",
              "<style scoped>\n",
              "    .dataframe tbody tr th:only-of-type {\n",
              "        vertical-align: middle;\n",
              "    }\n",
              "\n",
              "    .dataframe tbody tr th {\n",
              "        vertical-align: top;\n",
              "    }\n",
              "\n",
              "    .dataframe thead th {\n",
              "        text-align: right;\n",
              "    }\n",
              "</style>\n",
              "<table border=\"1\" class=\"dataframe\">\n",
              "  <thead>\n",
              "    <tr style=\"text-align: right;\">\n",
              "      <th></th>\n",
              "      <th>count</th>\n",
              "    </tr>\n",
              "    <tr>\n",
              "      <th>Outcome</th>\n",
              "      <th></th>\n",
              "    </tr>\n",
              "  </thead>\n",
              "  <tbody>\n",
              "    <tr>\n",
              "      <th>0</th>\n",
              "      <td>500</td>\n",
              "    </tr>\n",
              "    <tr>\n",
              "      <th>1</th>\n",
              "      <td>268</td>\n",
              "    </tr>\n",
              "  </tbody>\n",
              "</table>\n",
              "</div><br><label><b>dtype:</b> int64</label>"
            ]
          },
          "metadata": {},
          "execution_count": 6
        }
      ]
    },
    {
      "cell_type": "code",
      "source": [
        "df.shape"
      ],
      "metadata": {
        "colab": {
          "base_uri": "https://localhost:8080/"
        },
        "id": "07cArt84k_fH",
        "outputId": "56798f3c-b39b-4691-e3cf-a90da8316fba"
      },
      "execution_count": 7,
      "outputs": [
        {
          "output_type": "execute_result",
          "data": {
            "text/plain": [
              "(768, 9)"
            ]
          },
          "metadata": {},
          "execution_count": 7
        }
      ]
    },
    {
      "cell_type": "markdown",
      "source": [
        "## 3\\. Análise Exploratória de Dados (EDA)\n"
      ],
      "metadata": {
        "id": "Qw2JA01M1h5c"
      }
    },
    {
      "cell_type": "markdown",
      "source": [
        "Exploramos as distribuições das variáveis, outliers e a proporção das classes alvo (`Outcome`)."
      ],
      "metadata": {
        "id": "klrFx7VC2luZ"
      }
    },
    {
      "cell_type": "markdown",
      "source": [
        "### 3.1. Distribuição da Variável Target (Outcome)\n"
      ],
      "metadata": {
        "id": "2Uq59FRe2n-2"
      }
    },
    {
      "cell_type": "code",
      "source": [
        "procentagem = (df.Outcome.mean() * 100).round(2)\n",
        "procentagem"
      ],
      "metadata": {
        "colab": {
          "base_uri": "https://localhost:8080/"
        },
        "id": "YbivksFhivzJ",
        "outputId": "98dbd92f-0b82-4b35-f406-269dc3a720a1"
      },
      "execution_count": 8,
      "outputs": [
        {
          "output_type": "execute_result",
          "data": {
            "text/plain": [
              "np.float64(34.9)"
            ]
          },
          "metadata": {},
          "execution_count": 8
        }
      ]
    },
    {
      "cell_type": "code",
      "source": [
        "outcome_dist = df['Outcome'].value_counts(normalize=True) * 100\n",
        "plt.figure(figsize=(8, 7))\n",
        "sns.countplot(x='Outcome', data=df, palette=\"Set2\")\n",
        "plt.title('Distribuição de Casos de Diabetes')\n",
        "plt.xlabel('Diagnóstico de Diabetes (0 = Não, 1 = Sim)')\n",
        "plt.ylabel('Contagem')\n",
        "for i, v in enumerate(df['Outcome'].value_counts()):\n",
        "    plt.text(i, v + 10, f'{v}\\n({outcome_dist[i]:.1f}%)', ha='center')\n",
        "plt.show()"
      ],
      "metadata": {
        "colab": {
          "base_uri": "https://localhost:8080/",
          "height": 752
        },
        "id": "UMzBZqlS220B",
        "outputId": "f9c34677-e5d7-421c-fb3c-57f734be37a1"
      },
      "execution_count": 9,
      "outputs": [
        {
          "output_type": "stream",
          "name": "stderr",
          "text": [
            "/tmp/ipython-input-9-3562178247.py:3: FutureWarning: \n",
            "\n",
            "Passing `palette` without assigning `hue` is deprecated and will be removed in v0.14.0. Assign the `x` variable to `hue` and set `legend=False` for the same effect.\n",
            "\n",
            "  sns.countplot(x='Outcome', data=df, palette=\"Set2\")\n"
          ]
        },
        {
          "output_type": "display_data",
          "data": {
            "text/plain": [
              "<Figure size 800x700 with 1 Axes>"
            ],
            "image/png": "[encoded data removed]"
          },
          "metadata": {}
        }
      ]
    },
    {
      "cell_type": "markdown",
      "source": [
        "> Nossa base de dados não está muito **desequilibrada**, isso é importante para saber quais técnicas de predição devemos se basea para estrair os melhores insighits."
      ],
      "metadata": {
        "id": "CITDG1ObYhiD"
      }
    },
    {
      "cell_type": "markdown",
      "source": [
        "### 3.2. Estatísticas Descritivas"
      ],
      "metadata": {
        "id": "NIq3o4Wv2KHD"
      }
    },
    {
      "cell_type": "code",
      "source": [
        "df.info()"
      ],
      "metadata": {
        "colab": {
          "base_uri": "https://localhost:8080/"
        },
        "id": "NBf10N5klCbp",
        "outputId": "cd8d9554-26fc-4cb2-add3-889a91313e9f"
      },
      "execution_count": 10,
      "outputs": [
        {
          "output_type": "stream",
          "name": "stdout",
          "text": [
            "<class 'pandas.core.frame.DataFrame'>\n",
            "RangeIndex: 768 entries, 0 to 767\n",
            "Data columns (total 9 columns):\n",
            " #   Column                    Non-Null Count  Dtype  \n",
            "---  ------                    --------------  -----  \n",
            " 0   Pregnancies               768 non-null    int64  \n",
            " 1   Glucose                   768 non-null    int64  \n",
            " 2   BloodPressure             768 non-null    int64  \n",
            " 3   SkinThickness             768 non-null    int64  \n",
            " 4   Insulin                   768 non-null    int64  \n",
            " 5   BMI                       768 non-null    float64\n",
            " 6   DiabetesPedigreeFunction  768 non-null    float64\n",
            " 7   Age                       768 non-null    int64  \n",
            " 8   Outcome                   768 non-null    int64  \n",
            "dtypes: float64(2), int64(7)\n",
            "memory usage: 54.1 KB\n"
          ]
        }
      ]
    },
    {
      "cell_type": "code",
      "source": [
        "df.isnull().sum()"
      ],
      "metadata": {
        "colab": {
          "base_uri": "https://localhost:8080/",
          "height": 367
        },
        "id": "rZ7XcHzglE0D",
        "outputId": "849927ed-b1e4-4677-bbb5-e587183ba76b"
      },
      "execution_count": 11,
      "outputs": [
        {
          "output_type": "execute_result",
          "data": {
            "text/plain": [
              "Pregnancies                 0\n",
              "Glucose                     0\n",
              "BloodPressure               0\n",
              "SkinThickness               0\n",
              "Insulin                     0\n",
              "BMI                         0\n",
              "DiabetesPedigreeFunction    0\n",
              "Age                         0\n",
              "Outcome                     0\n",
              "dtype: int64"
            ],
            "text/html": [
              "<div>\n",
              "<style scoped>\n",
              "    .dataframe tbody tr th:only-of-type {\n",
              "        vertical-align: middle;\n",
              "    }\n",
              "\n",
              "    .dataframe tbody tr th {\n",
              "        vertical-align: top;\n",
              "    }\n",
              "\n",
              "    .dataframe thead th {\n",
              "        text-align: right;\n",
              "    }\n",
              "</style>\n",
              "<table border=\"1\" class=\"dataframe\">\n",
              "  <thead>\n",
              "    <tr style=\"text-align: right;\">\n",
              "      <th></th>\n",
              "      <th>0</th>\n",
              "    </tr>\n",
              "  </thead>\n",
              "  <tbody>\n",
              "    <tr>\n",
              "      <th>Pregnancies</th>\n",
              "      <td>0</td>\n",
              "    </tr>\n",
              "    <tr>\n",
              "      <th>Glucose</th>\n",
              "      <td>0</td>\n",
              "    </tr>\n",
              "    <tr>\n",
              "      <th>BloodPressure</th>\n",
              "      <td>0</td>\n",
              "    </tr>\n",
              "    <tr>\n",
              "      <th>SkinThickness</th>\n",
              "      <td>0</td>\n",
              "    </tr>\n",
              "    <tr>\n",
              "      <th>Insulin</th>\n",
              "      <td>0</td>\n",
              "    </tr>\n",
              "    <tr>\n",
              "      <th>BMI</th>\n",
              "      <td>0</td>\n",
              "    </tr>\n",
              "    <tr>\n",
              "      <th>DiabetesPedigreeFunction</th>\n",
              "      <td>0</td>\n",
              "    </tr>\n",
              "    <tr>\n",
              "      <th>Age</th>\n",
              "      <td>0</td>\n",
              "    </tr>\n",
              "    <tr>\n",
              "      <th>Outcome</th>\n",
              "      <td>0</td>\n",
              "    </tr>\n",
              "  </tbody>\n",
              "</table>\n",
              "</div><br><label><b>dtype:</b> int64</label>"
            ]
          },
          "metadata": {},
          "execution_count": 11
        }
      ]
    },
    {
      "cell_type": "markdown",
      "source": [
        "> Como podemos ver no comando acima não tem valores missing no dataset, mas será preciso analisar melhor para entender melhor o dataset."
      ],
      "metadata": {
        "id": "5fWX8pEtoGgF"
      }
    },
    {
      "cell_type": "code",
      "source": [
        "df.describe().T"
      ],
      "metadata": {
        "colab": {
          "base_uri": "https://localhost:8080/",
          "height": 332
        },
        "id": "81vYBsx5lKcA",
        "outputId": "496446ae-fa5a-4561-d24d-da0be49d0d2a"
      },
      "execution_count": 12,
      "outputs": [
        {
          "output_type": "execute_result",
          "data": {
            "text/plain": [
              "                          count        mean         std     min       25%  \\\n",
              "Pregnancies               768.0    3.845052    3.369578   0.000   1.00000   \n",
              "Glucose                   768.0  120.894531   31.972618   0.000  99.00000   \n",
              "BloodPressure             768.0   69.105469   19.355807   0.000  62.00000   \n",
              "SkinThickness             768.0   20.536458   15.952218   0.000   0.00000   \n",
              "Insulin                   768.0   79.799479  115.244002   0.000   0.00000   \n",
              "BMI                       768.0   31.992578    7.884160   0.000  27.30000   \n",
              "DiabetesPedigreeFunction  768.0    0.471876    0.331329   0.078   0.24375   \n",
              "Age                       768.0   33.240885   11.760232  21.000  24.00000   \n",
              "Outcome                   768.0    0.348958    0.476951   0.000   0.00000   \n",
              "\n",
              "                               50%        75%     max  \n",
              "Pregnancies                 3.0000    6.00000   17.00  \n",
              "Glucose                   117.0000  140.25000  199.00  \n",
              "BloodPressure              72.0000   80.00000  122.00  \n",
              "SkinThickness              23.0000   32.00000   99.00  \n",
              "Insulin                    30.5000  127.25000  846.00  \n",
              "BMI                        32.0000   36.60000   67.10  \n",
              "DiabetesPedigreeFunction    0.3725    0.62625    2.42  \n",
              "Age                        29.0000   41.00000   81.00  \n",
              "Outcome                     0.0000    1.00000    1.00  "
            ],
            "text/html": [
              "\n",
              "  <div id=\"df-00c7eb68-35c8-4b62-98ac-1568992129d2\" class=\"colab-df-container\">\n",
              "    <div>\n",
              "<style scoped>\n",
              "    .dataframe tbody tr th:only-of-type {\n",
              "        vertical-align: middle;\n",
              "    }\n",
              "\n",
              "    .dataframe tbody tr th {\n",
              "        vertical-align: top;\n",
              "    }\n",
              "\n",
              "    .dataframe thead th {\n",
              "        text-align: right;\n",
              "    }\n",
              "</style>\n",
              "<table border=\"1\" class=\"dataframe\">\n",
              "  <thead>\n",
              "    <tr style=\"text-align: right;\">\n",
              "      <th></th>\n",
              "      <th>count</th>\n",
              "      <th>mean</th>\n",
              "      <th>std</th>\n",
              "      <th>min</th>\n",
              "      <th>25%</th>\n",
              "      <th>50%</th>\n",
              "      <th>75%</th>\n",
              "      <th>max</th>\n",
              "    </tr>\n",
              "  </thead>\n",
              "  <tbody>\n",
              "    <tr>\n",
              "      <th>Pregnancies</th>\n",
              "      <td>768.0</td>\n",
              "      <td>3.845052</td>\n",
              "      <td>3.369578</td>\n",
              "      <td>0.000</td>\n",
              "      <td>1.00000</td>\n",
              "      <td>3.0000</td>\n",
              "      <td>6.00000</td>\n",
              "      <td>17.00</td>\n",
              "    </tr>\n",
              "    <tr>\n",
              "      <th>Glucose</th>\n",
              "      <td>768.0</td>\n",
              "      <td>120.894531</td>\n",
              "      <td>31.972618</td>\n",
              "      <td>0.000</td>\n",
              "      <td>99.00000</td>\n",
              "      <td>117.0000</td>\n",
              "      <td>140.25000</td>\n",
              "      <td>199.00</td>\n",
              "    </tr>\n",
              "    <tr>\n",
              "      <th>BloodPressure</th>\n",
              "      <td>768.0</td>\n",
              "      <td>69.105469</td>\n",
              "      <td>19.355807</td>\n",
              "      <td>0.000</td>\n",
              "      <td>62.00000</td>\n",
              "      <td>72.0000</td>\n",
              "      <td>80.00000</td>\n",
              "      <td>122.00</td>\n",
              "    </tr>\n",
              "    <tr>\n",
              "      <th>SkinThickness</th>\n",
              "      <td>768.0</td>\n",
              "      <td>20.536458</td>\n",
              "      <td>15.952218</td>\n",
              "      <td>0.000</td>\n",
              "      <td>0.00000</td>\n",
              "      <td>23.0000</td>\n",
              "      <td>32.00000</td>\n",
              "      <td>99.00</td>\n",
              "    </tr>\n",
              "    <tr>\n",
              "      <th>Insulin</th>\n",
              "      <td>768.0</td>\n",
              "      <td>79.799479</td>\n",
              "      <td>115.244002</td>\n",
              "      <td>0.000</td>\n",
              "      <td>0.00000</td>\n",
              "      <td>30.5000</td>\n",
              "      <td>127.25000</td>\n",
              "      <td>846.00</td>\n",
              "    </tr>\n",
              "    <tr>\n",
              "      <th>BMI</th>\n",
              "      <td>768.0</td>\n",
              "      <td>31.992578</td>\n",
              "      <td>7.884160</td>\n",
              "      <td>0.000</td>\n",
              "      <td>27.30000</td>\n",
              "      <td>32.0000</td>\n",
              "      <td>36.60000</td>\n",
              "      <td>67.10</td>\n",
              "    </tr>\n",
              "    <tr>\n",
              "      <th>DiabetesPedigreeFunction</th>\n",
              "      <td>768.0</td>\n",
              "      <td>0.471876</td>\n",
              "      <td>0.331329</td>\n",
              "      <td>0.078</td>\n",
              "      <td>0.24375</td>\n",
              "      <td>0.3725</td>\n",
              "      <td>0.62625</td>\n",
              "      <td>2.42</td>\n",
              "    </tr>\n",
              "    <tr>\n",
              "      <th>Age</th>\n",
              "      <td>768.0</td>\n",
              "      <td>33.240885</td>\n",
              "      <td>11.760232</td>\n",
              "      <td>21.000</td>\n",
              "      <td>24.00000</td>\n",
              "      <td>29.0000</td>\n",
              "      <td>41.00000</td>\n",
              "      <td>81.00</td>\n",
              "    </tr>\n",
              "    <tr>\n",
              "      <th>Outcome</th>\n",
              "      <td>768.0</td>\n",
              "      <td>0.348958</td>\n",
              "      <td>0.476951</td>\n",
              "      <td>0.000</td>\n",
              "      <td>0.00000</td>\n",
              "      <td>0.0000</td>\n",
              "      <td>1.00000</td>\n",
              "      <td>1.00</td>\n",
              "    </tr>\n",
              "  </tbody>\n",
              "</table>\n",
              "</div>\n",
              "    <div class=\"colab-df-buttons\">\n",
              "\n",
              "  <div class=\"colab-df-container\">\n",
              "    <button class=\"colab-df-convert\" onclick=\"convertToInteractive('df-00c7eb68-35c8-4b62-98ac-1568992129d2')\"\n",
              "            title=\"Convert this dataframe to an interactive table.\"\n",
              "            style=\"display:none;\">\n",
              "\n",
              "  <svg xmlns=\"http://www.w3.org/2000/svg\" height=\"24px\" viewBox=\"0 -960 960 960\">\n",
              "    <path d=\"M120-120v-720h720v720H120Zm60-500h600v-160H180v160Zm220 220h160v-160H400v160Zm0 220h160v-160H400v160ZM180-400h160v-160H180v160Zm440 0h160v-160H620v160ZM180-180h160v-160H180v160Zm440 0h160v-160H620v160Z\"/>\n",
              "  </svg>\n",
              "    </button>\n",
              "\n",
              "  <style>\n",
              "    .colab-df-container {\n",
              "      display:flex;\n",
              "      gap: 12px;\n",
              "    }\n",
              "\n",
              "    .colab-df-convert {\n",
              "      background-color: #E8F0FE;\n",
              "      border: none;\n",
              "      border-radius: 50%;\n",
              "      cursor: pointer;\n",
              "      display: none;\n",
              "      fill: #1967D2;\n",
              "      height: 32px;\n",
              "      padding: 0 0 0 0;\n",
              "      width: 32px;\n",
              "    }\n",
              "\n",
              "    .colab-df-convert:hover {\n",
              "      background-color: #E2EBFA;\n",
              "      box-shadow: 0px 1px 2px rgba(60, 64, 67, 0.3), 0px 1px 3px 1px rgba(60, 64, 67, 0.15);\n",
              "      fill: #174EA6;\n",
              "    }\n",
              "\n",
              "    .colab-df-buttons div {\n",
              "      margin-bottom: 4px;\n",
              "    }\n",
              "\n",
              "    [theme=dark] .colab-df-convert {\n",
              "      background-color: #3B4455;\n",
              "      fill: #D2E3FC;\n",
              "    }\n",
              "\n",
              "    [theme=dark] .colab-df-convert:hover {\n",
              "      background-color: #434B5C;\n",
              "      box-shadow: 0px 1px 3px 1px rgba(0, 0, 0, 0.15);\n",
              "      filter: drop-shadow(0px 1px 2px rgba(0, 0, 0, 0.3));\n",
              "      fill: #FFFFFF;\n",
              "    }\n",
              "  </style>\n",
              "\n",
              "    <script>\n",
              "      const buttonEl =\n",
              "        document.querySelector('#df-00c7eb68-35c8-4b62-98ac-1568992129d2 button.colab-df-convert');\n",
              "      buttonEl.style.display =\n",
              "        google.colab.kernel.accessAllowed ? 'block' : 'none';\n",
              "\n",
              "      async function convertToInteractive(key) {\n",
              "        const element = document.querySelector('#df-00c7eb68-35c8-4b62-98ac-1568992129d2');\n",
              "        const dataTable =\n",
              "          await google.colab.kernel.invokeFunction('convertToInteractive',\n",
              "                                                    [key], {});\n",
              "        if (!dataTable) return;\n",
              "\n",
              "        const docLinkHtml = 'Like what you see? Visit the ' +\n",
              "          '<a target=\"_blank\" href=https://colab.research.google.com/notebooks/data_table.ipynb>data table notebook</a>'\n",
              "          + ' to learn more about interactive tables.';\n",
              "        element.innerHTML = '';\n",
              "        dataTable['output_type'] = 'display_data';\n",
              "        await google.colab.output.renderOutput(dataTable, element);\n",
              "        const docLink = document.createElement('div');\n",
              "        docLink.innerHTML = docLinkHtml;\n",
              "        element.appendChild(docLink);\n",
              "      }\n",
              "    </script>\n",
              "  </div>\n",
              "\n",
              "\n",
              "    <div id=\"df-1b22cbe9-fa97-4e68-82d3-6653407e7668\">\n",
              "      <button class=\"colab-df-quickchart\" onclick=\"quickchart('df-1b22cbe9-fa97-4e68-82d3-6653407e7668')\"\n",
              "                title=\"Suggest charts\"\n",
              "                style=\"display:none;\">\n",
              "\n",
              "<svg xmlns=\"http://www.w3.org/2000/svg\" height=\"24px\"viewBox=\"0 0 24 24\"\n",
              "     width=\"24px\">\n",
              "    <g>\n",
              "        <path d=\"M19 3H5c-1.1 0-2 .9-2 2v14c0 1.1.9 2 2 2h14c1.1 0 2-.9 2-2V5c0-1.1-.9-2-2-2zM9 17H7v-7h2v7zm4 0h-2V7h2v10zm4 0h-2v-4h2v4z\"/>\n",
              "    </g>\n",
              "</svg>\n",
              "      </button>\n",
              "\n",
              "<style>\n",
              "  .colab-df-quickchart {\n",
              "      --bg-color: #E8F0FE;\n",
              "      --fill-color: #1967D2;\n",
              "      --hover-bg-color: #E2EBFA;\n",
              "      --hover-fill-color: #174EA6;\n",
              "      --disabled-fill-color: #AAA;\n",
              "      --disabled-bg-color: #DDD;\n",
              "  }\n",
              "\n",
              "  [theme=dark] .colab-df-quickchart {\n",
              "      --bg-color: #3B4455;\n",
              "      --fill-color: #D2E3FC;\n",
              "      --hover-bg-color: #434B5C;\n",
              "      --hover-fill-color: #FFFFFF;\n",
              "      --disabled-bg-color: #3B4455;\n",
              "      --disabled-fill-color: #666;\n",
              "  }\n",
              "\n",
              "  .colab-df-quickchart {\n",
              "    background-color: var(--bg-color);\n",
              "    border: none;\n",
              "    border-radius: 50%;\n",
              "    cursor: pointer;\n",
              "    display: none;\n",
              "    fill: var(--fill-color);\n",
              "    height: 32px;\n",
              "    padding: 0;\n",
              "    width: 32px;\n",
              "  }\n",
              "\n",
              "  .colab-df-quickchart:hover {\n",
              "    background-color: var(--hover-bg-color);\n",
              "    box-shadow: 0 1px 2px rgba(60, 64, 67, 0.3), 0 1px 3px 1px rgba(60, 64, 67, 0.15);\n",
              "    fill: var(--button-hover-fill-color);\n",
              "  }\n",
              "\n",
              "  .colab-df-quickchart-complete:disabled,\n",
              "  .colab-df-quickchart-complete:disabled:hover {\n",
              "    background-color: var(--disabled-bg-color);\n",
              "    fill: var(--disabled-fill-color);\n",
              "    box-shadow: none;\n",
              "  }\n",
              "\n",
              "  .colab-df-spinner {\n",
              "    border: 2px solid var(--fill-color);\n",
              "    border-color: transparent;\n",
              "    border-bottom-color: var(--fill-color);\n",
              "    animation:\n",
              "      spin 1s steps(1) infinite;\n",
              "  }\n",
              "\n",
              "  @keyframes spin {\n",
              "    0% {\n",
              "      border-color: transparent;\n",
              "      border-bottom-color: var(--fill-color);\n",
              "      border-left-color: var(--fill-color);\n",
              "    }\n",
              "    20% {\n",
              "      border-color: transparent;\n",
              "      border-left-color: var(--fill-color);\n",
              "      border-top-color: var(--fill-color);\n",
              "    }\n",
              "    30% {\n",
              "      border-color: transparent;\n",
              "      border-left-color: var(--fill-color);\n",
              "      border-top-color: var(--fill-color);\n",
              "      border-right-color: var(--fill-color);\n",
              "    }\n",
              "    40% {\n",
              "      border-color: transparent;\n",
              "      border-right-color: var(--fill-color);\n",
              "      border-top-color: var(--fill-color);\n",
              "    }\n",
              "    60% {\n",
              "      border-color: transparent;\n",
              "      border-right-color: var(--fill-color);\n",
              "    }\n",
              "    80% {\n",
              "      border-color: transparent;\n",
              "      border-right-color: var(--fill-color);\n",
              "      border-bottom-color: var(--fill-color);\n",
              "    }\n",
              "    90% {\n",
              "      border-color: transparent;\n",
              "      border-bottom-color: var(--fill-color);\n",
              "    }\n",
              "  }\n",
              "</style>\n",
              "\n",
              "      <script>\n",
              "        async function quickchart(key) {\n",
              "          const quickchartButtonEl =\n",
              "            document.querySelector('#' + key + ' button');\n",
              "          quickchartButtonEl.disabled = true;  // To prevent multiple clicks.\n",
              "          quickchartButtonEl.classList.add('colab-df-spinner');\n",
              "          try {\n",
              "            const charts = await google.colab.kernel.invokeFunction(\n",
              "                'suggestCharts', [key], {});\n",
              "          } catch (error) {\n",
              "            console.error('Error during call to suggestCharts:', error);\n",
              "          }\n",
              "          quickchartButtonEl.classList.remove('colab-df-spinner');\n",
              "          quickchartButtonEl.classList.add('colab-df-quickchart-complete');\n",
              "        }\n",
              "        (() => {\n",
              "          let quickchartButtonEl =\n",
              "            document.querySelector('#df-1b22cbe9-fa97-4e68-82d3-6653407e7668 button');\n",
              "          quickchartButtonEl.style.display =\n",
              "            google.colab.kernel.accessAllowed ? 'block' : 'none';\n",
              "        })();\n",
              "      </script>\n",
              "    </div>\n",
              "\n",
              "    </div>\n",
              "  </div>\n"
            ],
            "application/vnd.google.colaboratory.intrinsic+json": {
              "type": "dataframe",
              "summary": "{\n  \"name\": \"df\",\n  \"rows\": 9,\n  \"fields\": [\n    {\n      \"column\": \"count\",\n      \"properties\": {\n        \"dtype\": \"number\",\n        \"std\": 0.0,\n        \"min\": 768.0,\n        \"max\": 768.0,\n        \"num_unique_values\": 1,\n        \"samples\": [\n          768.0\n        ],\n        \"semantic_type\": \"\",\n        \"description\": \"\"\n      }\n    },\n    {\n      \"column\": \"mean\",\n      \"properties\": {\n        \"dtype\": \"number\",\n        \"std\": 41.69163241067674,\n        \"min\": 0.3489583333333333,\n        \"max\": 120.89453125,\n        \"num_unique_values\": 9,\n        \"samples\": [\n          33.240885416666664\n        ],\n        \"semantic_type\": \"\",\n        \"description\": \"\"\n      }\n    },\n    {\n      \"column\": \"std\",\n      \"properties\": {\n        \"dtype\": \"number\",\n        \"std\": 36.07925076113047,\n        \"min\": 0.33132859501277484,\n        \"max\": 115.24400235133837,\n        \"num_unique_values\": 9,\n        \"samples\": [\n          11.76023154067868\n        ],\n        \"semantic_type\": \"\",\n        \"description\": \"\"\n      }\n    },\n    {\n      \"column\": \"min\",\n      \"properties\": {\n        \"dtype\": \"number\",\n        \"std\": 6.996797553166735,\n        \"min\": 0.0,\n        \"max\": 21.0,\n        \"num_unique_values\": 3,\n        \"samples\": [\n          0.0\n        ],\n        \"semantic_type\": \"\",\n        \"description\": \"\"\n      }\n    },\n    {\n      \"column\": \"25%\",\n      \"properties\": {\n        \"dtype\": \"number\",\n        \"std\": 35.179146988130626,\n        \"min\": 0.0,\n        \"max\": 99.0,\n        \"num_unique_values\": 7,\n        \"samples\": [\n          1.0\n        ],\n        \"semantic_type\": \"\",\n        \"description\": \"\"\n      }\n    },\n    {\n      \"column\": \"50%\",\n      \"properties\": {\n        \"dtype\": \"number\",\n        \"std\": 38.3128147168513,\n        \"min\": 0.0,\n        \"max\": 117.0,\n        \"num_unique_values\": 9,\n        \"samples\": [\n          29.0\n        ],\n        \"semantic_type\": \"\",\n        \"description\": \"\"\n      }\n    },\n    {\n      \"column\": \"75%\",\n      \"properties\": {\n        \"dtype\": \"number\",\n        \"std\": 52.85340145451852,\n        \"min\": 0.62625,\n        \"max\": 140.25,\n        \"num_unique_values\": 9,\n        \"samples\": [\n          41.0\n        ],\n        \"semantic_type\": \"\",\n        \"description\": \"\"\n      }\n    },\n    {\n      \"column\": \"max\",\n      \"properties\": {\n        \"dtype\": \"number\",\n        \"std\": 265.2148962843361,\n        \"min\": 1.0,\n        \"max\": 846.0,\n        \"num_unique_values\": 9,\n        \"samples\": [\n          81.0\n        ],\n        \"semantic_type\": \"\",\n        \"description\": \"\"\n      }\n    }\n  ]\n}"
            }
          },
          "metadata": {},
          "execution_count": 12
        }
      ]
    },
    {
      "cell_type": "markdown",
      "source": [
        "> Como podemos ver do `describe` acima, Temos valores 0 nos minimos da colunas *Pregnancies*, *Glucose*, *BloodPressure*, *SkinThickness*, *Insulin* e *BMI*. Muito possível que os dados missing esteja com o valor 0 (zero)."
      ],
      "metadata": {
        "id": "NbUFLLR4laAb"
      }
    },
    {
      "cell_type": "markdown",
      "source": [
        "### 3.3 Análise de Valores Ausentes/Zero"
      ],
      "metadata": {
        "id": "vJWfwE2_4OBy"
      }
    },
    {
      "cell_type": "code",
      "source": [
        "# Identificar zeros em colunas onde não são biologicamente plausíveis\n",
        "zero_counts = df[['Glucose', 'BloodPressure', 'SkinThickness', 'Insulin', 'BMI']].apply(lambda x: (x == 0).sum())\n",
        "zero_percent = (zero_counts / len(df) * 100).round(2)\n",
        "\n",
        "plt.figure(figsize=(10, 6))\n",
        "sns.barplot(x=zero_percent.index, y=zero_percent.values, palette=\"viridis\")\n",
        "plt.title('Porcentagem de Valores Zero por Variável')\n",
        "plt.ylabel('Porcentagem (%)')\n",
        "plt.axhline(y=30, color='r', linestyle='--', label='Limite de preocupação')\n",
        "plt.legend()\n",
        "plt.show()"
      ],
      "metadata": {
        "colab": {
          "base_uri": "https://localhost:8080/",
          "height": 675
        },
        "id": "6PIuW5rT4XmL",
        "outputId": "392343da-75c4-43e4-8975-35794626c3ea"
      },
      "execution_count": 13,
      "outputs": [
        {
          "output_type": "stream",
          "name": "stderr",
          "text": [
            "/tmp/ipython-input-13-2190285357.py:6: FutureWarning: \n",
            "\n",
            "Passing `palette` without assigning `hue` is deprecated and will be removed in v0.14.0. Assign the `x` variable to `hue` and set `legend=False` for the same effect.\n",
            "\n",
            "  sns.barplot(x=zero_percent.index, y=zero_percent.values, palette=\"viridis\")\n"
          ]
        },
        {
          "output_type": "display_data",
          "data": {
            "text/plain": [
              "<Figure size 1000x600 with 1 Axes>"
            ],
            "image/png": "[encoded data removed]"
          },
          "metadata": {}
        }
      ]
    },
    {
      "cell_type": "code",
      "source": [
        "df[['Pregnancies', 'Glucose', 'BloodPressure', 'SkinThickness', 'Insulin', 'BMI']].apply(lambda x: (x == 0).sum())\n"
      ],
      "metadata": {
        "colab": {
          "base_uri": "https://localhost:8080/",
          "height": 272
        },
        "id": "ha5pIHFjlZoB",
        "outputId": "5694a538-8e44-41d6-dd38-7fdadba18b9c"
      },
      "execution_count": 14,
      "outputs": [
        {
          "output_type": "execute_result",
          "data": {
            "text/plain": [
              "Pregnancies      111\n",
              "Glucose            5\n",
              "BloodPressure     35\n",
              "SkinThickness    227\n",
              "Insulin          374\n",
              "BMI               11\n",
              "dtype: int64"
            ],
            "text/html": [
              "<div>\n",
              "<style scoped>\n",
              "    .dataframe tbody tr th:only-of-type {\n",
              "        vertical-align: middle;\n",
              "    }\n",
              "\n",
              "    .dataframe tbody tr th {\n",
              "        vertical-align: top;\n",
              "    }\n",
              "\n",
              "    .dataframe thead th {\n",
              "        text-align: right;\n",
              "    }\n",
              "</style>\n",
              "<table border=\"1\" class=\"dataframe\">\n",
              "  <thead>\n",
              "    <tr style=\"text-align: right;\">\n",
              "      <th></th>\n",
              "      <th>0</th>\n",
              "    </tr>\n",
              "  </thead>\n",
              "  <tbody>\n",
              "    <tr>\n",
              "      <th>Pregnancies</th>\n",
              "      <td>111</td>\n",
              "    </tr>\n",
              "    <tr>\n",
              "      <th>Glucose</th>\n",
              "      <td>5</td>\n",
              "    </tr>\n",
              "    <tr>\n",
              "      <th>BloodPressure</th>\n",
              "      <td>35</td>\n",
              "    </tr>\n",
              "    <tr>\n",
              "      <th>SkinThickness</th>\n",
              "      <td>227</td>\n",
              "    </tr>\n",
              "    <tr>\n",
              "      <th>Insulin</th>\n",
              "      <td>374</td>\n",
              "    </tr>\n",
              "    <tr>\n",
              "      <th>BMI</th>\n",
              "      <td>11</td>\n",
              "    </tr>\n",
              "  </tbody>\n",
              "</table>\n",
              "</div><br><label><b>dtype:</b> int64</label>"
            ]
          },
          "metadata": {},
          "execution_count": 14
        }
      ]
    },
    {
      "cell_type": "code",
      "source": [
        "df[['Pregnancies', 'Glucose', 'BloodPressure', 'SkinThickness', 'Insulin', 'BMI']].apply(lambda x: ((x == 0).sum() / len(df)).round(4) * 100)"
      ],
      "metadata": {
        "colab": {
          "base_uri": "https://localhost:8080/",
          "height": 272
        },
        "id": "ToJFWuDNvfHT",
        "outputId": "ad0be771-34e0-40b6-f7d6-001392651293"
      },
      "execution_count": 15,
      "outputs": [
        {
          "output_type": "execute_result",
          "data": {
            "text/plain": [
              "Pregnancies      14.45\n",
              "Glucose           0.65\n",
              "BloodPressure     4.56\n",
              "SkinThickness    29.56\n",
              "Insulin          48.70\n",
              "BMI               1.43\n",
              "dtype: float64"
            ],
            "text/html": [
              "<div>\n",
              "<style scoped>\n",
              "    .dataframe tbody tr th:only-of-type {\n",
              "        vertical-align: middle;\n",
              "    }\n",
              "\n",
              "    .dataframe tbody tr th {\n",
              "        vertical-align: top;\n",
              "    }\n",
              "\n",
              "    .dataframe thead th {\n",
              "        text-align: right;\n",
              "    }\n",
              "</style>\n",
              "<table border=\"1\" class=\"dataframe\">\n",
              "  <thead>\n",
              "    <tr style=\"text-align: right;\">\n",
              "      <th></th>\n",
              "      <th>0</th>\n",
              "    </tr>\n",
              "  </thead>\n",
              "  <tbody>\n",
              "    <tr>\n",
              "      <th>Pregnancies</th>\n",
              "      <td>14.45</td>\n",
              "    </tr>\n",
              "    <tr>\n",
              "      <th>Glucose</th>\n",
              "      <td>0.65</td>\n",
              "    </tr>\n",
              "    <tr>\n",
              "      <th>BloodPressure</th>\n",
              "      <td>4.56</td>\n",
              "    </tr>\n",
              "    <tr>\n",
              "      <th>SkinThickness</th>\n",
              "      <td>29.56</td>\n",
              "    </tr>\n",
              "    <tr>\n",
              "      <th>Insulin</th>\n",
              "      <td>48.70</td>\n",
              "    </tr>\n",
              "    <tr>\n",
              "      <th>BMI</th>\n",
              "      <td>1.43</td>\n",
              "    </tr>\n",
              "  </tbody>\n",
              "</table>\n",
              "</div><br><label><b>dtype:</b> float64</label>"
            ]
          },
          "metadata": {},
          "execution_count": 15
        }
      ]
    },
    {
      "cell_type": "markdown",
      "source": [
        "> A análise inicial revela um problema significativo: os comandos executados quantifica os **valores zero** nas colunas onde eles são **biologicamente implausíveis**. Dada a nossa base de dados de **768 linhas**, a coluna **Insulin** apresenta um desafio particular, com **374 valores zero**. Isso representa **48,7%** dos dados dessa coluna, impactando diretamente a qualidade e a confiabilidade de nossas análises.\n"
      ],
      "metadata": {
        "id": "_UUaWJVlq-8J"
      }
    },
    {
      "cell_type": "markdown",
      "source": [
        "### 3.4. Identificação de Outliers"
      ],
      "metadata": {
        "id": "j9up-TJ8D9mW"
      }
    },
    {
      "cell_type": "code",
      "source": [
        "plt.figure(figsize=(15, 10))\n",
        "\n",
        "sns.boxplot(data=df)\n",
        "plt.ylabel('Valores')\n",
        "plt.grid(False) # Opcional: remover a grade para uma aparência mais limpa\n",
        "plt.tight_layout() # Ajusta o layout para evitar sobreposição de rótulos\n",
        "plt.show()"
      ],
      "metadata": {
        "colab": {
          "base_uri": "https://localhost:8080/",
          "height": 642
        },
        "id": "44M7qTngq-ob",
        "outputId": "8da2d3ec-3b2d-4783-a045-43b5de862346"
      },
      "execution_count": 16,
      "outputs": [
        {
          "output_type": "display_data",
          "data": {
            "text/plain": [
              "<Figure size 1500x1000 with 1 Axes>"
            ],
            "image/png": "[encoded data removed]"
          },
          "metadata": {}
        }
      ]
    },
    {
      "cell_type": "markdown",
      "source": [
        "Como podemos ver acima o nosso dataframe tem *Outliers*. Importante verificar esse ponto já que as técnicas de deveremos usar precisa evitar ditorções dentro do nosso dataframe."
      ],
      "metadata": {
        "id": "00otpzuIlxCd"
      }
    },
    {
      "cell_type": "markdown",
      "source": [
        "## 5\\. Tratamento de Dados\n",
        "Substituímos valores '0' inválidos por `NaN` e aplicamos imputações apropriadas. Também realizamos a padronização das variáveis numéricas.\n"
      ],
      "metadata": {
        "id": "uFRdC1E-mRAd"
      }
    },
    {
      "cell_type": "markdown",
      "source": [
        ">  *Glucose*, *BloodPressure* e *BMI*\n",
        "\n",
        "- Pouca ou moderada quantidade de missing.\n",
        "- Imputação com **mediana** (robusta contra outliers)\n",
        "- **Justificativa**: Preservar o volume de dados e evitar distorção com a média (especialmente se a distribuição for assimétrica)."
      ],
      "metadata": {
        "id": "s0duZsTzmT76"
      }
    },
    {
      "cell_type": "code",
      "source": [
        "for col in ['Glucose', 'BloodPressure', 'BMI']:\n",
        "    median = df[df[col] != 0][col].median()\n",
        "    df[col] = df[col].replace(0, median)\n"
      ],
      "metadata": {
        "id": "Qp7J5Srxlr9M"
      },
      "execution_count": 17,
      "outputs": []
    },
    {
      "cell_type": "markdown",
      "source": [
        "> *SkinThickness* e *Insulin*\n",
        "\n",
        "- Imputação com KNN\n",
        "- **Justificativa**: KNN leva em conta outras features e pode manter a correlação com o perfil do paciente, útil para variáveis fisiológicas.\n",
        "- **Ponto de Atenção**: a padronização prévia é essencial para resultados confiáveis com KNNImputer."
      ],
      "metadata": {
        "id": "C54au8Gi1_vo"
      }
    },
    {
      "cell_type": "code",
      "source": [
        "# 1. Cópia segura dos dados já tratados\n",
        "df_temp = df.copy()\n",
        "\n",
        "# 2. Substituir 0 por NaN nas colunas-alvo do KNN\n",
        "cols_missing = ['SkinThickness', 'Insulin']\n",
        "df_temp[cols_missing] = df_temp[cols_missing].replace(0, np.nan)\n",
        "\n",
        "# 3. Selecionar colunas base (JÁ TRATADAS + COM MISSING)\n",
        "cols_base = ['Pregnancies', 'Glucose', 'BloodPressure', 'SkinThickness',\n",
        "             'Insulin', 'BMI', 'DiabetesPedigreeFunction', 'Age']\n",
        "\n",
        "# 4. Padronizar mantendo os NaNs\n",
        "scaler = StandardScaler()\n",
        "scaled_data = pd.DataFrame(scaler.fit_transform(df_temp[cols_base]),\n",
        "                           columns=cols_base, index=df_temp.index)\n",
        "\n",
        "# 5. Aplicar KNNImputer nos dados com NaN preservados\n",
        "imputer = KNNImputer(n_neighbors=5)\n",
        "imputed_scaled = imputer.fit_transform(scaled_data)\n",
        "\n",
        "# 6. Reverter a padronização\n",
        "imputed_data = scaler.inverse_transform(imputed_scaled)\n",
        "df_imputed = pd.DataFrame(imputed_data, columns=cols_base, index=df_temp.index)\n",
        "\n",
        "# 7. Atualizar APENAS as colunas-alvo\n",
        "df['SkinThickness'] = df_imputed['SkinThickness']\n",
        "df['Insulin'] = df_imputed['Insulin']"
      ],
      "metadata": {
        "id": "USIMwzkj6NNy"
      },
      "execution_count": 18,
      "outputs": []
    },
    {
      "cell_type": "code",
      "source": [
        "print(\"\\nDepois da imputação:\")\n",
        "print(df[['SkinThickness','Insulin']].describe().round(2))"
      ],
      "metadata": {
        "id": "6MmNoK20hX_q",
        "colab": {
          "base_uri": "https://localhost:8080/"
        },
        "outputId": "b57f045b-1fb2-441c-9e8a-0806dcbceb36"
      },
      "execution_count": 19,
      "outputs": [
        {
          "output_type": "stream",
          "name": "stdout",
          "text": [
            "\n",
            "Depois da imputação:\n",
            "       SkinThickness  Insulin\n",
            "count         768.00   768.00\n",
            "mean           29.05   154.09\n",
            "std             9.46    98.10\n",
            "min             7.00    14.00\n",
            "25%            23.00    89.30\n",
            "50%            29.00   130.00\n",
            "75%            35.00   193.70\n",
            "max            99.00   846.00\n"
          ]
        }
      ]
    },
    {
      "cell_type": "code",
      "source": [
        "df[['Pregnancies', 'Glucose', 'BloodPressure', 'SkinThickness', 'Insulin', 'BMI']].apply(lambda x: (x == 0).sum())\n"
      ],
      "metadata": {
        "colab": {
          "base_uri": "https://localhost:8080/",
          "height": 272
        },
        "id": "WJBntIxTE5wR",
        "outputId": "a3325aa3-e25a-45a0-d1d9-7e2524cf79c2"
      },
      "execution_count": 20,
      "outputs": [
        {
          "output_type": "execute_result",
          "data": {
            "text/plain": [
              "Pregnancies      111\n",
              "Glucose            0\n",
              "BloodPressure      0\n",
              "SkinThickness      0\n",
              "Insulin            0\n",
              "BMI                0\n",
              "dtype: int64"
            ],
            "text/html": [
              "<div>\n",
              "<style scoped>\n",
              "    .dataframe tbody tr th:only-of-type {\n",
              "        vertical-align: middle;\n",
              "    }\n",
              "\n",
              "    .dataframe tbody tr th {\n",
              "        vertical-align: top;\n",
              "    }\n",
              "\n",
              "    .dataframe thead th {\n",
              "        text-align: right;\n",
              "    }\n",
              "</style>\n",
              "<table border=\"1\" class=\"dataframe\">\n",
              "  <thead>\n",
              "    <tr style=\"text-align: right;\">\n",
              "      <th></th>\n",
              "      <th>0</th>\n",
              "    </tr>\n",
              "  </thead>\n",
              "  <tbody>\n",
              "    <tr>\n",
              "      <th>Pregnancies</th>\n",
              "      <td>111</td>\n",
              "    </tr>\n",
              "    <tr>\n",
              "      <th>Glucose</th>\n",
              "      <td>0</td>\n",
              "    </tr>\n",
              "    <tr>\n",
              "      <th>BloodPressure</th>\n",
              "      <td>0</td>\n",
              "    </tr>\n",
              "    <tr>\n",
              "      <th>SkinThickness</th>\n",
              "      <td>0</td>\n",
              "    </tr>\n",
              "    <tr>\n",
              "      <th>Insulin</th>\n",
              "      <td>0</td>\n",
              "    </tr>\n",
              "    <tr>\n",
              "      <th>BMI</th>\n",
              "      <td>0</td>\n",
              "    </tr>\n",
              "  </tbody>\n",
              "</table>\n",
              "</div><br><label><b>dtype:</b> int64</label>"
            ]
          },
          "metadata": {},
          "execution_count": 20
        }
      ]
    },
    {
      "cell_type": "markdown",
      "source": [
        "## 6\\. Análise de Correlações e Verificação de Multicolinearidade\n",
        "\n",
        "Utilizamos o Fator de Inflação da Variância (VIF) para verificar relações colineares entre variáveis preditoras.\n"
      ],
      "metadata": {
        "id": "kweDILcT60LW"
      }
    },
    {
      "cell_type": "code",
      "source": [
        "plt.figure(figsize=(12, 8))\n",
        "\n",
        "sns.heatmap(df.corr(), annot=True, cmap='coolwarm')\n",
        "plt.title('Matriz de Correlação')\n",
        "plt.show()"
      ],
      "metadata": {
        "colab": {
          "base_uri": "https://localhost:8080/",
          "height": 768
        },
        "id": "PpVY78v-aHIO",
        "outputId": "a3d5f96a-4d8f-45d0-e2fc-fa624edc1e48"
      },
      "execution_count": 21,
      "outputs": [
        {
          "output_type": "display_data",
          "data": {
            "text/plain": [
              "<Figure size 1200x800 with 2 Axes>"
            ],
            "image/png": "[encoded data removed]"
          },
          "metadata": {}
        }
      ]
    },
    {
      "cell_type": "markdown",
      "source": [
        "Como podemos verificar temos uma corelação moderada nas variaveis  `SkinThickness` × `BMI` e `Insulin` × `Glucose`.\n",
        "\n",
        "Nesse caso:\n",
        "\n",
        "* `SkinThickness` × `BMI` → **0.66** → moderada-alta\n",
        "* `Insulin` × `Glucose` → **0.61** → moderada\n",
        "\n",
        "**Conclusão preliminar**: não indicam multicolinearidade severa, mas merecem ser investigadas com **VIF**, pois a correlação bivariada nem sempre revela a relação multivariada oculta.\n",
        "\n"
      ],
      "metadata": {
        "id": "EmD73_Sbokst"
      }
    },
    {
      "cell_type": "code",
      "source": [
        "# Selecionar colunas preditoras\n",
        "X = df[['Pregnancies', 'Glucose', 'BloodPressure', 'SkinThickness',\n",
        "                 'Insulin', 'BMI', 'DiabetesPedigreeFunction', 'Age']]\n",
        "\n",
        "# Adicionar constante (intercepto)\n",
        "X_const = add_constant(X)\n",
        "\n",
        "# Calcular VIF para cada variável\n",
        "vif_data = pd.DataFrame()\n",
        "vif_data[\"Variável\"] = X_const.columns\n",
        "vif_data[\"VIF\"] = [variance_inflation_factor(X_const.values, i)\n",
        "                   for i in range(X_const.shape[1])]\n",
        "\n",
        "print(vif_data)"
      ],
      "metadata": {
        "colab": {
          "base_uri": "https://localhost:8080/"
        },
        "id": "t-7MRAueo-M-",
        "outputId": "adb94d6c-6a24-4045-8ee5-e87a9401ed68"
      },
      "execution_count": 22,
      "outputs": [
        {
          "output_type": "stream",
          "name": "stdout",
          "text": [
            "                   Variável        VIF\n",
            "0                     const  57.110141\n",
            "1               Pregnancies   1.443931\n",
            "2                   Glucose   1.647629\n",
            "3             BloodPressure   1.243468\n",
            "4             SkinThickness   1.829784\n",
            "5                   Insulin   1.706962\n",
            "6                       BMI   1.979025\n",
            "7  DiabetesPedigreeFunction   1.049501\n",
            "8                       Age   1.667845\n"
          ]
        }
      ]
    },
    {
      "cell_type": "markdown",
      "source": [
        "> O resultado do VIF confirma que não há multicolinearidade preocupante entre as variáveis do seu modelo.\n",
        "\n",
        "- **Todos os VIFs < 2**, o que está bem abaixo do limiar de preocupação (geralmente 5 ou 10).\n",
        "\n",
        "- O intercepto (`const`) naturalmente tem um VIF alto e **deve ser ignorado** nessa análise."
      ],
      "metadata": {
        "id": "gLDVaRhfzGiD"
      }
    },
    {
      "cell_type": "markdown",
      "source": [
        "## 7\\. Divisão dos Dados em Treino e Teste\n",
        "Separamos os dados em conjuntos de treino e teste utilizando a função `train_test_split`, preservando a proporção das classes.\n"
      ],
      "metadata": {
        "id": "j9_EcCs74Dzs"
      }
    },
    {
      "cell_type": "code",
      "source": [
        "# 1. Separar features e target\n",
        "X = df.drop('Outcome', axis=1)\n",
        "y = df['Outcome']\n",
        "\n",
        "# 2. Dividir dados ANTES da padronização\n",
        "X_train, X_test, y_train, y_test = train_test_split(\n",
        "    X, y, test_size=0.2, random_state=42\n",
        ")"
      ],
      "metadata": {
        "id": "rVjzkVc0EtJO"
      },
      "execution_count": 23,
      "outputs": []
    },
    {
      "cell_type": "markdown",
      "source": [
        "## 8\\. Construção do Pipeline e Treinamento do Modelo\n",
        "Criamos um pipeline com `RobustScaler` e `LogisticRegression` e treinamos com os dados de treino.\n"
      ],
      "metadata": {
        "id": "O-mTfLhoE2VN"
      }
    },
    {
      "cell_type": "code",
      "source": [
        "# 3. Criar pipeline com padronização e modelo\n",
        "model = make_pipeline(\n",
        "    RobustScaler(),  # Apenas para features numéricas\n",
        "    LogisticRegression(penalty='l2', max_iter=500, random_state=42)\n",
        ")\n",
        "\n",
        "# 4. Treinar usando APENAS dados de treino\n",
        "model.fit(X_train, y_train)\n"
      ],
      "metadata": {
        "colab": {
          "base_uri": "https://localhost:8080/",
          "height": 158
        },
        "id": "uLxeGi5TST2U",
        "outputId": "6712ff99-003f-495d-875c-fad7e6988d79"
      },
      "execution_count": 24,
      "outputs": [
        {
          "output_type": "execute_result",
          "data": {
            "text/plain": [
              "Pipeline(steps=[('robustscaler', RobustScaler()),\n",
              "                ('logisticregression',\n",
              "                 LogisticRegression(max_iter=500, random_state=42))])"
            ],
            "text/html": [
              "<style>#sk-container-id-1 {\n",
              "  /* Definition of color scheme common for light and dark mode */\n",
              "  --sklearn-color-text: #000;\n",
              "  --sklearn-color-text-muted: #666;\n",
              "  --sklearn-color-line: gray;\n",
              "  /* Definition of color scheme for unfitted estimators */\n",
              "  --sklearn-color-unfitted-level-0: #fff5e6;\n",
              "  --sklearn-color-unfitted-level-1: #f6e4d2;\n",
              "  --sklearn-color-unfitted-level-2: #ffe0b3;\n",
              "  --sklearn-color-unfitted-level-3: chocolate;\n",
              "  /* Definition of color scheme for fitted estimators */\n",
              "  --sklearn-color-fitted-level-0: #f0f8ff;\n",
              "  --sklearn-color-fitted-level-1: #d4ebff;\n",
              "  --sklearn-color-fitted-level-2: #b3dbfd;\n",
              "  --sklearn-color-fitted-level-3: cornflowerblue;\n",
              "\n",
              "  /* Specific color for light theme */\n",
              "  --sklearn-color-text-on-default-background: var(--sg-text-color, var(--theme-code-foreground, var(--jp-content-font-color1, black)));\n",
              "  --sklearn-color-background: var(--sg-background-color, var(--theme-background, var(--jp-layout-color0, white)));\n",
              "  --sklearn-color-border-box: var(--sg-text-color, var(--theme-code-foreground, var(--jp-content-font-color1, black)));\n",
              "  --sklearn-color-icon: #696969;\n",
              "\n",
              "  @media (prefers-color-scheme: dark) {\n",
              "    /* Redefinition of color scheme for dark theme */\n",
              "    --sklearn-color-text-on-default-background: var(--sg-text-color, var(--theme-code-foreground, var(--jp-content-font-color1, white)));\n",
              "    --sklearn-color-background: var(--sg-background-color, var(--theme-background, var(--jp-layout-color0, #111)));\n",
              "    --sklearn-color-border-box: var(--sg-text-color, var(--theme-code-foreground, var(--jp-content-font-color1, white)));\n",
              "    --sklearn-color-icon: #878787;\n",
              "  }\n",
              "}\n",
              "\n",
              "#sk-container-id-1 {\n",
              "  color: var(--sklearn-color-text);\n",
              "}\n",
              "\n",
              "#sk-container-id-1 pre {\n",
              "  padding: 0;\n",
              "}\n",
              "\n",
              "#sk-container-id-1 input.sk-hidden--visually {\n",
              "  border: 0;\n",
              "  clip: rect(1px 1px 1px 1px);\n",
              "  clip: rect(1px, 1px, 1px, 1px);\n",
              "  height: 1px;\n",
              "  margin: -1px;\n",
              "  overflow: hidden;\n",
              "  padding: 0;\n",
              "  position: absolute;\n",
              "  width: 1px;\n",
              "}\n",
              "\n",
              "#sk-container-id-1 div.sk-dashed-wrapped {\n",
              "  border: 1px dashed var(--sklearn-color-line);\n",
              "  margin: 0 0.4em 0.5em 0.4em;\n",
              "  box-sizing: border-box;\n",
              "  padding-bottom: 0.4em;\n",
              "  background-color: var(--sklearn-color-background);\n",
              "}\n",
              "\n",
              "#sk-container-id-1 div.sk-container {\n",
              "  /* jupyter's `normalize.less` sets `[hidden] { display: none; }`\n",
              "     but bootstrap.min.css set `[hidden] { display: none !important; }`\n",
              "     so we also need the `!important` here to be able to override the\n",
              "     default hidden behavior on the sphinx rendered scikit-learn.org.\n",
              "     See: https://github.com/scikit-learn/scikit-learn/issues/21755 */\n",
              "  display: inline-block !important;\n",
              "  position: relative;\n",
              "}\n",
              "\n",
              "#sk-container-id-1 div.sk-text-repr-fallback {\n",
              "  display: none;\n",
              "}\n",
              "\n",
              "div.sk-parallel-item,\n",
              "div.sk-serial,\n",
              "div.sk-item {\n",
              "  /* draw centered vertical line to link estimators */\n",
              "  background-image: linear-gradient(var(--sklearn-color-text-on-default-background), var(--sklearn-color-text-on-default-background));\n",
              "  background-size: 2px 100%;\n",
              "  background-repeat: no-repeat;\n",
              "  background-position: center center;\n",
              "}\n",
              "\n",
              "/* Parallel-specific style estimator block */\n",
              "\n",
              "#sk-container-id-1 div.sk-parallel-item::after {\n",
              "  content: \"\";\n",
              "  width: 100%;\n",
              "  border-bottom: 2px solid var(--sklearn-color-text-on-default-background);\n",
              "  flex-grow: 1;\n",
              "}\n",
              "\n",
              "#sk-container-id-1 div.sk-parallel {\n",
              "  display: flex;\n",
              "  align-items: stretch;\n",
              "  justify-content: center;\n",
              "  background-color: var(--sklearn-color-background);\n",
              "  position: relative;\n",
              "}\n",
              "\n",
              "#sk-container-id-1 div.sk-parallel-item {\n",
              "  display: flex;\n",
              "  flex-direction: column;\n",
              "}\n",
              "\n",
              "#sk-container-id-1 div.sk-parallel-item:first-child::after {\n",
              "  align-self: flex-end;\n",
              "  width: 50%;\n",
              "}\n",
              "\n",
              "#sk-container-id-1 div.sk-parallel-item:last-child::after {\n",
              "  align-self: flex-start;\n",
              "  width: 50%;\n",
              "}\n",
              "\n",
              "#sk-container-id-1 div.sk-parallel-item:only-child::after {\n",
              "  width: 0;\n",
              "}\n",
              "\n",
              "/* Serial-specific style estimator block */\n",
              "\n",
              "#sk-container-id-1 div.sk-serial {\n",
              "  display: flex;\n",
              "  flex-direction: column;\n",
              "  align-items: center;\n",
              "  background-color: var(--sklearn-color-background);\n",
              "  padding-right: 1em;\n",
              "  padding-left: 1em;\n",
              "}\n",
              "\n",
              "\n",
              "/* Toggleable style: style used for estimator/Pipeline/ColumnTransformer box that is\n",
              "clickable and can be expanded/collapsed.\n",
              "- Pipeline and ColumnTransformer use this feature and define the default style\n",
              "- Estimators will overwrite some part of the style using the `sk-estimator` class\n",
              "*/\n",
              "\n",
              "/* Pipeline and ColumnTransformer style (default) */\n",
              "\n",
              "#sk-container-id-1 div.sk-toggleable {\n",
              "  /* Default theme specific background. It is overwritten whether we have a\n",
              "  specific estimator or a Pipeline/ColumnTransformer */\n",
              "  background-color: var(--sklearn-color-background);\n",
              "}\n",
              "\n",
              "/* Toggleable label */\n",
              "#sk-container-id-1 label.sk-toggleable__label {\n",
              "  cursor: pointer;\n",
              "  display: flex;\n",
              "  width: 100%;\n",
              "  margin-bottom: 0;\n",
              "  padding: 0.5em;\n",
              "  box-sizing: border-box;\n",
              "  text-align: center;\n",
              "  align-items: start;\n",
              "  justify-content: space-between;\n",
              "  gap: 0.5em;\n",
              "}\n",
              "\n",
              "#sk-container-id-1 label.sk-toggleable__label .caption {\n",
              "  font-size: 0.6rem;\n",
              "  font-weight: lighter;\n",
              "  color: var(--sklearn-color-text-muted);\n",
              "}\n",
              "\n",
              "#sk-container-id-1 label.sk-toggleable__label-arrow:before {\n",
              "  /* Arrow on the left of the label */\n",
              "  content: \"▸\";\n",
              "  float: left;\n",
              "  margin-right: 0.25em;\n",
              "  color: var(--sklearn-color-icon);\n",
              "}\n",
              "\n",
              "#sk-container-id-1 label.sk-toggleable__label-arrow:hover:before {\n",
              "  color: var(--sklearn-color-text);\n",
              "}\n",
              "\n",
              "/* Toggleable content - dropdown */\n",
              "\n",
              "#sk-container-id-1 div.sk-toggleable__content {\n",
              "  max-height: 0;\n",
              "  max-width: 0;\n",
              "  overflow: hidden;\n",
              "  text-align: left;\n",
              "  /* unfitted */\n",
              "  background-color: var(--sklearn-color-unfitted-level-0);\n",
              "}\n",
              "\n",
              "#sk-container-id-1 div.sk-toggleable__content.fitted {\n",
              "  /* fitted */\n",
              "  background-color: var(--sklearn-color-fitted-level-0);\n",
              "}\n",
              "\n",
              "#sk-container-id-1 div.sk-toggleable__content pre {\n",
              "  margin: 0.2em;\n",
              "  border-radius: 0.25em;\n",
              "  color: var(--sklearn-color-text);\n",
              "  /* unfitted */\n",
              "  background-color: var(--sklearn-color-unfitted-level-0);\n",
              "}\n",
              "\n",
              "#sk-container-id-1 div.sk-toggleable__content.fitted pre {\n",
              "  /* unfitted */\n",
              "  background-color: var(--sklearn-color-fitted-level-0);\n",
              "}\n",
              "\n",
              "#sk-container-id-1 input.sk-toggleable__control:checked~div.sk-toggleable__content {\n",
              "  /* Expand drop-down */\n",
              "  max-height: 200px;\n",
              "  max-width: 100%;\n",
              "  overflow: auto;\n",
              "}\n",
              "\n",
              "#sk-container-id-1 input.sk-toggleable__control:checked~label.sk-toggleable__label-arrow:before {\n",
              "  content: \"▾\";\n",
              "}\n",
              "\n",
              "/* Pipeline/ColumnTransformer-specific style */\n",
              "\n",
              "#sk-container-id-1 div.sk-label input.sk-toggleable__control:checked~label.sk-toggleable__label {\n",
              "  color: var(--sklearn-color-text);\n",
              "  background-color: var(--sklearn-color-unfitted-level-2);\n",
              "}\n",
              "\n",
              "#sk-container-id-1 div.sk-label.fitted input.sk-toggleable__control:checked~label.sk-toggleable__label {\n",
              "  background-color: var(--sklearn-color-fitted-level-2);\n",
              "}\n",
              "\n",
              "/* Estimator-specific style */\n",
              "\n",
              "/* Colorize estimator box */\n",
              "#sk-container-id-1 div.sk-estimator input.sk-toggleable__control:checked~label.sk-toggleable__label {\n",
              "  /* unfitted */\n",
              "  background-color: var(--sklearn-color-unfitted-level-2);\n",
              "}\n",
              "\n",
              "#sk-container-id-1 div.sk-estimator.fitted input.sk-toggleable__control:checked~label.sk-toggleable__label {\n",
              "  /* fitted */\n",
              "  background-color: var(--sklearn-color-fitted-level-2);\n",
              "}\n",
              "\n",
              "#sk-container-id-1 div.sk-label label.sk-toggleable__label,\n",
              "#sk-container-id-1 div.sk-label label {\n",
              "  /* The background is the default theme color */\n",
              "  color: var(--sklearn-color-text-on-default-background);\n",
              "}\n",
              "\n",
              "/* On hover, darken the color of the background */\n",
              "#sk-container-id-1 div.sk-label:hover label.sk-toggleable__label {\n",
              "  color: var(--sklearn-color-text);\n",
              "  background-color: var(--sklearn-color-unfitted-level-2);\n",
              "}\n",
              "\n",
              "/* Label box, darken color on hover, fitted */\n",
              "#sk-container-id-1 div.sk-label.fitted:hover label.sk-toggleable__label.fitted {\n",
              "  color: var(--sklearn-color-text);\n",
              "  background-color: var(--sklearn-color-fitted-level-2);\n",
              "}\n",
              "\n",
              "/* Estimator label */\n",
              "\n",
              "#sk-container-id-1 div.sk-label label {\n",
              "  font-family: monospace;\n",
              "  font-weight: bold;\n",
              "  display: inline-block;\n",
              "  line-height: 1.2em;\n",
              "}\n",
              "\n",
              "#sk-container-id-1 div.sk-label-container {\n",
              "  text-align: center;\n",
              "}\n",
              "\n",
              "/* Estimator-specific */\n",
              "#sk-container-id-1 div.sk-estimator {\n",
              "  font-family: monospace;\n",
              "  border: 1px dotted var(--sklearn-color-border-box);\n",
              "  border-radius: 0.25em;\n",
              "  box-sizing: border-box;\n",
              "  margin-bottom: 0.5em;\n",
              "  /* unfitted */\n",
              "  background-color: var(--sklearn-color-unfitted-level-0);\n",
              "}\n",
              "\n",
              "#sk-container-id-1 div.sk-estimator.fitted {\n",
              "  /* fitted */\n",
              "  background-color: var(--sklearn-color-fitted-level-0);\n",
              "}\n",
              "\n",
              "/* on hover */\n",
              "#sk-container-id-1 div.sk-estimator:hover {\n",
              "  /* unfitted */\n",
              "  background-color: var(--sklearn-color-unfitted-level-2);\n",
              "}\n",
              "\n",
              "#sk-container-id-1 div.sk-estimator.fitted:hover {\n",
              "  /* fitted */\n",
              "  background-color: var(--sklearn-color-fitted-level-2);\n",
              "}\n",
              "\n",
              "/* Specification for estimator info (e.g. \"i\" and \"?\") */\n",
              "\n",
              "/* Common style for \"i\" and \"?\" */\n",
              "\n",
              ".sk-estimator-doc-link,\n",
              "a:link.sk-estimator-doc-link,\n",
              "a:visited.sk-estimator-doc-link {\n",
              "  float: right;\n",
              "  font-size: smaller;\n",
              "  line-height: 1em;\n",
              "  font-family: monospace;\n",
              "  background-color: var(--sklearn-color-background);\n",
              "  border-radius: 1em;\n",
              "  height: 1em;\n",
              "  width: 1em;\n",
              "  text-decoration: none !important;\n",
              "  margin-left: 0.5em;\n",
              "  text-align: center;\n",
              "  /* unfitted */\n",
              "  border: var(--sklearn-color-unfitted-level-1) 1pt solid;\n",
              "  color: var(--sklearn-color-unfitted-level-1);\n",
              "}\n",
              "\n",
              ".sk-estimator-doc-link.fitted,\n",
              "a:link.sk-estimator-doc-link.fitted,\n",
              "a:visited.sk-estimator-doc-link.fitted {\n",
              "  /* fitted */\n",
              "  border: var(--sklearn-color-fitted-level-1) 1pt solid;\n",
              "  color: var(--sklearn-color-fitted-level-1);\n",
              "}\n",
              "\n",
              "/* On hover */\n",
              "div.sk-estimator:hover .sk-estimator-doc-link:hover,\n",
              ".sk-estimator-doc-link:hover,\n",
              "div.sk-label-container:hover .sk-estimator-doc-link:hover,\n",
              ".sk-estimator-doc-link:hover {\n",
              "  /* unfitted */\n",
              "  background-color: var(--sklearn-color-unfitted-level-3);\n",
              "  color: var(--sklearn-color-background);\n",
              "  text-decoration: none;\n",
              "}\n",
              "\n",
              "div.sk-estimator.fitted:hover .sk-estimator-doc-link.fitted:hover,\n",
              ".sk-estimator-doc-link.fitted:hover,\n",
              "div.sk-label-container:hover .sk-estimator-doc-link.fitted:hover,\n",
              ".sk-estimator-doc-link.fitted:hover {\n",
              "  /* fitted */\n",
              "  background-color: var(--sklearn-color-fitted-level-3);\n",
              "  color: var(--sklearn-color-background);\n",
              "  text-decoration: none;\n",
              "}\n",
              "\n",
              "/* Span, style for the box shown on hovering the info icon */\n",
              ".sk-estimator-doc-link span {\n",
              "  display: none;\n",
              "  z-index: 9999;\n",
              "  position: relative;\n",
              "  font-weight: normal;\n",
              "  right: .2ex;\n",
              "  padding: .5ex;\n",
              "  margin: .5ex;\n",
              "  width: min-content;\n",
              "  min-width: 20ex;\n",
              "  max-width: 50ex;\n",
              "  color: var(--sklearn-color-text);\n",
              "  box-shadow: 2pt 2pt 4pt #999;\n",
              "  /* unfitted */\n",
              "  background: var(--sklearn-color-unfitted-level-0);\n",
              "  border: .5pt solid var(--sklearn-color-unfitted-level-3);\n",
              "}\n",
              "\n",
              ".sk-estimator-doc-link.fitted span {\n",
              "  /* fitted */\n",
              "  background: var(--sklearn-color-fitted-level-0);\n",
              "  border: var(--sklearn-color-fitted-level-3);\n",
              "}\n",
              "\n",
              ".sk-estimator-doc-link:hover span {\n",
              "  display: block;\n",
              "}\n",
              "\n",
              "/* \"?\"-specific style due to the `<a>` HTML tag */\n",
              "\n",
              "#sk-container-id-1 a.estimator_doc_link {\n",
              "  float: right;\n",
              "  font-size: 1rem;\n",
              "  line-height: 1em;\n",
              "  font-family: monospace;\n",
              "  background-color: var(--sklearn-color-background);\n",
              "  border-radius: 1rem;\n",
              "  height: 1rem;\n",
              "  width: 1rem;\n",
              "  text-decoration: none;\n",
              "  /* unfitted */\n",
              "  color: var(--sklearn-color-unfitted-level-1);\n",
              "  border: var(--sklearn-color-unfitted-level-1) 1pt solid;\n",
              "}\n",
              "\n",
              "#sk-container-id-1 a.estimator_doc_link.fitted {\n",
              "  /* fitted */\n",
              "  border: var(--sklearn-color-fitted-level-1) 1pt solid;\n",
              "  color: var(--sklearn-color-fitted-level-1);\n",
              "}\n",
              "\n",
              "/* On hover */\n",
              "#sk-container-id-1 a.estimator_doc_link:hover {\n",
              "  /* unfitted */\n",
              "  background-color: var(--sklearn-color-unfitted-level-3);\n",
              "  color: var(--sklearn-color-background);\n",
              "  text-decoration: none;\n",
              "}\n",
              "\n",
              "#sk-container-id-1 a.estimator_doc_link.fitted:hover {\n",
              "  /* fitted */\n",
              "  background-color: var(--sklearn-color-fitted-level-3);\n",
              "}\n",
              "</style><div id=\"sk-container-id-1\" class=\"sk-top-container\"><div class=\"sk-text-repr-fallback\"><pre>Pipeline(steps=[(&#x27;robustscaler&#x27;, RobustScaler()),\n",
              "                (&#x27;logisticregression&#x27;,\n",
              "                 LogisticRegression(max_iter=500, random_state=42))])</pre><b>In a Jupyter environment, please rerun this cell to show the HTML representation or trust the notebook. <br />On GitHub, the HTML representation is unable to render, please try loading this page with nbviewer.org.</b></div><div class=\"sk-container\" hidden><div class=\"sk-item sk-dashed-wrapped\"><div class=\"sk-label-container\"><div class=\"sk-label fitted sk-toggleable\"><input class=\"sk-toggleable__control sk-hidden--visually\" id=\"sk-estimator-id-1\" type=\"checkbox\" ><label for=\"sk-estimator-id-1\" class=\"sk-toggleable__label fitted sk-toggleable__label-arrow\"><div><div>Pipeline</div></div><div><a class=\"sk-estimator-doc-link fitted\" rel=\"noreferrer\" target=\"_blank\" href=\"https://scikit-learn.org/1.6/modules/generated/sklearn.pipeline.Pipeline.html\">?<span>Documentation for Pipeline</span></a><span class=\"sk-estimator-doc-link fitted\">i<span>Fitted</span></span></div></label><div class=\"sk-toggleable__content fitted\"><pre>Pipeline(steps=[(&#x27;robustscaler&#x27;, RobustScaler()),\n",
              "                (&#x27;logisticregression&#x27;,\n",
              "                 LogisticRegression(max_iter=500, random_state=42))])</pre></div> </div></div><div class=\"sk-serial\"><div class=\"sk-item\"><div class=\"sk-estimator fitted sk-toggleable\"><input class=\"sk-toggleable__control sk-hidden--visually\" id=\"sk-estimator-id-2\" type=\"checkbox\" ><label for=\"sk-estimator-id-2\" class=\"sk-toggleable__label fitted sk-toggleable__label-arrow\"><div><div>RobustScaler</div></div><div><a class=\"sk-estimator-doc-link fitted\" rel=\"noreferrer\" target=\"_blank\" href=\"https://scikit-learn.org/1.6/modules/generated/sklearn.preprocessing.RobustScaler.html\">?<span>Documentation for RobustScaler</span></a></div></label><div class=\"sk-toggleable__content fitted\"><pre>RobustScaler()</pre></div> </div></div><div class=\"sk-item\"><div class=\"sk-estimator fitted sk-toggleable\"><input class=\"sk-toggleable__control sk-hidden--visually\" id=\"sk-estimator-id-3\" type=\"checkbox\" ><label for=\"sk-estimator-id-3\" class=\"sk-toggleable__label fitted sk-toggleable__label-arrow\"><div><div>LogisticRegression</div></div><div><a class=\"sk-estimator-doc-link fitted\" rel=\"noreferrer\" target=\"_blank\" href=\"https://scikit-learn.org/1.6/modules/generated/sklearn.linear_model.LogisticRegression.html\">?<span>Documentation for LogisticRegression</span></a></div></label><div class=\"sk-toggleable__content fitted\"><pre>LogisticRegression(max_iter=500, random_state=42)</pre></div> </div></div></div></div></div></div>"
            ]
          },
          "metadata": {},
          "execution_count": 24
        }
      ]
    },
    {
      "cell_type": "markdown",
      "source": [
        "> Depois da parte de entender os dados com a aplicação da analise exploraria, iniciaremos o processo de aplicação do modelo\n",
        "\n",
        "- **Métodos de Padronização**: Usareos o RobustScaler já que os dados possuim **outliers**.\n",
        "- **Data Leakage**: Não usaremos **Padronização** com o conjunto completo.\n",
        "- **Prevenção de Overfitting**: Usaremos no modelo o `penalty='l2'` para ajudar o modelo a generalizar melhor para novos dados."
      ],
      "metadata": {
        "id": "OVVUUMr0TXMQ"
      }
    },
    {
      "cell_type": "markdown",
      "source": [
        "## 9\\. Avaliação Inicial do Modelo\n",
        "Avaliamos a acurácia do modelo nos conjuntos de treino e teste utilizando o threshold padrão de 0.5.\n"
      ],
      "metadata": {
        "id": "edrWMZbxFBj9"
      }
    },
    {
      "cell_type": "code",
      "source": [
        "# Previsões do modelo\n",
        "y_pred = model.predict(X_test)\n",
        "\n",
        "# Matriz de Confusão\n",
        "cm = confusion_matrix(y_test, y_pred)\n",
        "disp = ConfusionMatrixDisplay(confusion_matrix=cm)\n",
        "disp.plot()"
      ],
      "metadata": {
        "colab": {
          "base_uri": "https://localhost:8080/",
          "height": 467
        },
        "id": "r5I9fwTKXLz1",
        "outputId": "393b1c05-3a7f-474e-f41e-193eb0193280"
      },
      "execution_count": 25,
      "outputs": [
        {
          "output_type": "execute_result",
          "data": {
            "text/plain": [
              "<sklearn.metrics._plot.confusion_matrix.ConfusionMatrixDisplay at 0x7f60e793b610>"
            ]
          },
          "metadata": {},
          "execution_count": 25
        },
        {
          "output_type": "display_data",
          "data": {
            "text/plain": [
              "<Figure size 640x480 with 2 Axes>"
            ],
            "image/png": "[encoded data removed]"
          },
          "metadata": {}
        }
      ]
    },
    {
      "cell_type": "markdown",
      "source": [
        "Ao analisar a Matriz de Confusão, obtemos uma visão mais detalhada e crítica do desempenho do modelo em suas previsões. Neste caso, observamos **83 Verdadeiros Positivos (TP)**, que representam as instâncias em que o modelo previu corretamente 'diabetes', e o paciente de fato possuía a condição.\n",
        "\n",
        "No entanto, há dois pontos cruciais que exigem nossa atenção:\n",
        "\n",
        "1.  **Falsos Positivos (FP):** Identificamos **16 casos** em que o modelo previu 'diabetes', mas o paciente era, na realidade, saudável. Embora estes sejam 'alarmes falsos', eles podem gerar preocupação desnecessária no indivíduo e potencialmente levar a exames e custos adicionais.\n",
        "\n",
        "2.  **Falsos Negativos (FN):** Este é o ponto de maior preocupação. Registramos **21 casos** em que o modelo previu 'saudável', mas o paciente, na verdade, tinha diabetes. Um Falso Negativo neste contexto é um **erro grave**, pois implica que um paciente com a condição não será diagnosticado e, consequentemente, **não receberá o tratamento necessário**, o que pode ter sérias consequências para a saúde a longo prazo.\n",
        "\n",
        "Apesar dos **Verdadeiros Negativos (TN)**, que representam os casos em que o modelo previu 'saudável' corretamente e o paciente era saudável, é vital ponderar o impacto dos Falsos Negativos e Falsos Positivos ao determinar a adequação do modelo para aplicações clínicas.\n"
      ],
      "metadata": {
        "id": "Iv16s5RVoMje"
      }
    },
    {
      "cell_type": "code",
      "source": [
        "print(classification_report(y_test, y_pred))"
      ],
      "metadata": {
        "colab": {
          "base_uri": "https://localhost:8080/"
        },
        "id": "Nt2Ox4p5tCXY",
        "outputId": "37ebc103-219d-4aa5-b46e-25a696d81e5b"
      },
      "execution_count": 26,
      "outputs": [
        {
          "output_type": "stream",
          "name": "stdout",
          "text": [
            "              precision    recall  f1-score   support\n",
            "\n",
            "           0       0.80      0.84      0.82        99\n",
            "           1       0.68      0.62      0.65        55\n",
            "\n",
            "    accuracy                           0.76       154\n",
            "   macro avg       0.74      0.73      0.73       154\n",
            "weighted avg       0.76      0.76      0.76       154\n",
            "\n"
          ]
        }
      ]
    },
    {
      "cell_type": "code",
      "source": [
        "# Especificidade: TN / (TN + FP)\n",
        "tn, fp, fn, tp = cm.ravel()\n",
        "specificity = tn / (tn + fp)\n",
        "\n",
        "print(f\"Especificidade: {specificity:.2f}\")"
      ],
      "metadata": {
        "colab": {
          "base_uri": "https://localhost:8080/"
        },
        "id": "vD-2tixcqwtU",
        "outputId": "071263b2-bf9c-406b-8fb3-9a7f9a196f41"
      },
      "execution_count": 27,
      "outputs": [
        {
          "output_type": "stream",
          "name": "stdout",
          "text": [
            "Especificidade: 0.84\n"
          ]
        }
      ]
    },
    {
      "cell_type": "markdown",
      "source": [
        "Para o corte padrão de probabilidade 0.5, interpretamos:\n",
        "\n",
        "- **Precision:** 0.68 >> De todos os pacientes que o modelo classificou como diabéticos, 68% realmente estavam diabéticos.<br>\n",
        "- **Sensibilidade/Recall:** 0.62 >> De todos os pacientes realmente estavam diabéticos, o modelo classificou como diabéticos apenas 62%.<br>\n",
        "- **Especificidade:** 0.84 >> De todos os pacientes que **não** estavam diabéticos, o modelo classificou como não diabéticos 84%.<br>"
      ],
      "metadata": {
        "id": "t0Q3YptAwZ9P"
      }
    },
    {
      "cell_type": "markdown",
      "source": [
        "**A sensibilidade (Recall) é a métrica mais crítica** por duas razões fundamentais:\n",
        "\n",
        "1. **Consequências graves de falsos negativos**:  \n",
        "   - Um falso negativo significa que um paciente diabético não receberá tratamento  \n",
        "   - Pode levar a complicações como cegueira, falência renal, amputações e morte\n",
        "\n",
        "2. **Natureza progressiva da doença**:  \n",
        "   - Diagnóstico precoce permite intervenções que podem prevenir complicações  \n",
        "   - Não diagnosticar é mais prejudicial que um alarme falso\n",
        "\n",
        "**Métrica secundária crucial**: AUC (especialmente a área na região de alta sensibilidade)\n",
        "\n"
      ],
      "metadata": {
        "id": "Dlhjmap6zly2"
      }
    },
    {
      "cell_type": "markdown",
      "source": [
        "## 10\\. Ajuste de Threshold de Decisão\n",
        "\n"
      ],
      "metadata": {
        "id": "f3RcSj_DF7eH"
      }
    },
    {
      "cell_type": "markdown",
      "source": [
        "Perfeito! Ajustar o **threshold de decisão** é uma estratégia poderosa para **aumentar o Recall**, principalmente em problemas como **diagnóstico de diabetes**, onde é **melhor errar por excesso (FP) do que por omissão (FN)**.\n",
        "\n"
      ],
      "metadata": {
        "id": "9dC74gLs4Lqj"
      }
    },
    {
      "cell_type": "code",
      "source": [
        "# Obter probabilidades de predição\n",
        "y_proba = model.predict_proba(X_test)[:, 1]"
      ],
      "metadata": {
        "id": "E1VuLiyo4LFk"
      },
      "execution_count": 28,
      "outputs": []
    },
    {
      "cell_type": "code",
      "source": [
        "thresholds = np.arange(0.0, 1.01, 0.05)\n",
        "for t in thresholds:\n",
        "    y_pred_thresh = (y_proba >= t).astype(int)\n",
        "    precision = precision_score(y_test, y_pred_thresh)\n",
        "    recall = recall_score(y_test, y_pred_thresh)\n",
        "    f1 = f1_score(y_test, y_pred_thresh)\n",
        "    print(f\"Threshold: {t:.2f} | Precision: {precision:.2f} | Recall: {recall:.2f} | F1: {f1:.2f}\")\n"
      ],
      "metadata": {
        "colab": {
          "base_uri": "https://localhost:8080/"
        },
        "id": "E1IFhMu64wVi",
        "outputId": "2043d563-2830-4d86-dfc6-a5498e8d9ea2"
      },
      "execution_count": 29,
      "outputs": [
        {
          "output_type": "stream",
          "name": "stdout",
          "text": [
            "Threshold: 0.00 | Precision: 0.36 | Recall: 1.00 | F1: 0.53\n",
            "Threshold: 0.05 | Precision: 0.38 | Recall: 1.00 | F1: 0.56\n",
            "Threshold: 0.10 | Precision: 0.45 | Recall: 1.00 | F1: 0.62\n",
            "Threshold: 0.15 | Precision: 0.48 | Recall: 0.95 | F1: 0.64\n",
            "Threshold: 0.20 | Precision: 0.51 | Recall: 0.89 | F1: 0.65\n",
            "Threshold: 0.25 | Precision: 0.54 | Recall: 0.82 | F1: 0.65\n",
            "Threshold: 0.30 | Precision: 0.55 | Recall: 0.78 | F1: 0.65\n",
            "Threshold: 0.35 | Precision: 0.58 | Recall: 0.71 | F1: 0.64\n",
            "Threshold: 0.40 | Precision: 0.60 | Recall: 0.71 | F1: 0.65\n",
            "Threshold: 0.45 | Precision: 0.65 | Recall: 0.67 | F1: 0.66\n",
            "Threshold: 0.50 | Precision: 0.68 | Recall: 0.62 | F1: 0.65\n",
            "Threshold: 0.55 | Precision: 0.76 | Recall: 0.62 | F1: 0.68\n",
            "Threshold: 0.60 | Precision: 0.80 | Recall: 0.58 | F1: 0.67\n",
            "Threshold: 0.65 | Precision: 0.81 | Recall: 0.53 | F1: 0.64\n",
            "Threshold: 0.70 | Precision: 0.79 | Recall: 0.49 | F1: 0.61\n",
            "Threshold: 0.75 | Precision: 0.86 | Recall: 0.33 | F1: 0.47\n",
            "Threshold: 0.80 | Precision: 0.89 | Recall: 0.29 | F1: 0.44\n",
            "Threshold: 0.85 | Precision: 0.85 | Recall: 0.20 | F1: 0.32\n",
            "Threshold: 0.90 | Precision: 0.75 | Recall: 0.05 | F1: 0.10\n",
            "Threshold: 0.95 | Precision: 0.50 | Recall: 0.02 | F1: 0.04\n",
            "Threshold: 1.00 | Precision: 0.00 | Recall: 0.00 | F1: 0.00\n"
          ]
        },
        {
          "output_type": "stream",
          "name": "stderr",
          "text": [
            "/usr/local/lib/python3.11/dist-packages/sklearn/metrics/_classification.py:1565: UndefinedMetricWarning: Precision is ill-defined and being set to 0.0 due to no predicted samples. Use `zero_division` parameter to control this behavior.\n",
            "  _warn_prf(average, modifier, f\"{metric.capitalize()} is\", len(result))\n"
          ]
        }
      ]
    },
    {
      "cell_type": "code",
      "source": [
        "import matplotlib.pyplot as plt\n",
        "from sklearn.metrics import precision_recall_curve\n",
        "\n",
        "precision, recall, thresholds = precision_recall_curve(y_test, y_proba)\n",
        "\n",
        "plt.figure(figsize=(8, 5))\n",
        "plt.plot(thresholds, precision[:-1], label='Precisão')\n",
        "plt.plot(thresholds, recall[:-1], label='Recall')\n",
        "plt.xlabel('Threshold')\n",
        "plt.ylabel('Valor')\n",
        "plt.title('Precisão e Recall vs Threshold')\n",
        "plt.legend()\n",
        "plt.grid()\n",
        "plt.show()\n"
      ],
      "metadata": {
        "colab": {
          "base_uri": "https://localhost:8080/",
          "height": 487
        },
        "id": "Wd-W6qul44BW",
        "outputId": "b2ba8df6-3bf7-4acd-c79e-e2e78e3c7f92"
      },
      "execution_count": 30,
      "outputs": [
        {
          "output_type": "display_data",
          "data": {
            "text/plain": [
              "<Figure size 800x500 with 1 Axes>"
            ],
            "image/png": "[encoded data removed]"
          },
          "metadata": {}
        }
      ]
    },
    {
      "cell_type": "markdown",
      "source": [
        "> Com base no equilíbrio Recall × F1 × Precision\n",
        "\n",
        "Threshold = **0.20**<br>\n",
        "Recall = 0.89<br>\n",
        "Precision = 0.51<br>\n",
        "F1-Score = 0.65<br>\n",
        "\n",
        "Justificativa:\n",
        "\n",
        "- Mantém **alto recall (89%)**, o que reduz drasticamente os Falsos Negativos (misses de diabetes).\n",
        "\n",
        "- Ainda tem **boa precisão (51%)**: metade dos diagnósticos positivos são corretos.\n",
        "\n",
        "- **F1 equilibrado** (0.65), igual ao threshold padrão (0.5), mas com muito mais Recall!"
      ],
      "metadata": {
        "id": "H7kWHMZt7hNl"
      }
    },
    {
      "cell_type": "markdown",
      "source": [
        "> Matriz de Confusão com Threshold de 0.5"
      ],
      "metadata": {
        "id": "6pacaJAo8Mvw"
      }
    },
    {
      "cell_type": "code",
      "source": [
        "# Matriz de Confusão\n",
        "cm = confusion_matrix(y_test, y_pred)\n",
        "disp = ConfusionMatrixDisplay(confusion_matrix=cm).plot()\n",
        "plt.title('Matriz de Confusão com Threshold de 0.50')\n",
        "# Salva a imagem como SVG (ótimo para vetores)\n",
        "plt.savefig('Matriz_Confusão_Threshold05.png', bbox_inches='tight')"
      ],
      "metadata": {
        "colab": {
          "base_uri": "https://localhost:8080/",
          "height": 472
        },
        "id": "zEWNs4nADE-K",
        "outputId": "e42e4d4f-7e14-48d2-b4dd-1fbcad1e2460"
      },
      "execution_count": 41,
      "outputs": [
        {
          "output_type": "display_data",
          "data": {
            "text/plain": [
              "<Figure size 640x480 with 2 Axes>"
            ],
            "image/png": "[encoded data removed]"
          },
          "metadata": {}
        }
      ]
    },
    {
      "cell_type": "markdown",
      "source": [
        "> Matriz de Confusão com Threshold de 0.2"
      ],
      "metadata": {
        "id": "cubXuq6mNSU9"
      }
    },
    {
      "cell_type": "code",
      "source": [
        "# aplicar na prática\n",
        "threshold_otimo = 0.20\n",
        "y_pred_ajustado = (y_proba >= threshold_otimo).astype(int)\n",
        "cm2 = confusion_matrix(y_test, y_pred_ajustado)\n",
        "ConfusionMatrixDisplay(confusion_matrix=cm2).plot()\n",
        "plt.title('Matriz de Confusão com Threshold de 0.20')\n",
        "plt.savefig('Matriz_Confusão_Threshold02.png', bbox_inches='tight')"
      ],
      "metadata": {
        "colab": {
          "base_uri": "https://localhost:8080/",
          "height": 472
        },
        "id": "Ed34GDCU7gIg",
        "outputId": "cc33d5f0-6e87-4c7e-fa65-d637d9d4b4be"
      },
      "execution_count": 40,
      "outputs": [
        {
          "output_type": "display_data",
          "data": {
            "text/plain": [
              "<Figure size 640x480 with 2 Axes>"
            ],
            "image/png": "[encoded data removed]"
          },
          "metadata": {}
        }
      ]
    },
    {
      "cell_type": "markdown",
      "source": [
        "A nova Matriz de Confusão apresenta uma configuração que reflete um ajuste nas prioridades do modelo, particularmente notável ao comparar com os resultados anteriores.\n",
        "\n",
        "Observa-se que conseguimos **reduzir significativamente os Falsos Negativos (FN) de 21 para 6 casos.** Esta diminuição é um avanço crucial, especialmente no contexto de diagnóstico de diabetes, pois significa que o modelo está falhando menos em identificar pacientes que realmente possuem a condição. A minimização dos Falsos Negativos é frequentemente prioritária em problemas médicos, dada a gravidade de um não-diagnóstico.\n",
        "\n",
        "No entanto, essa melhoria veio com um *trade-off*. Os **Falsos Positivos (FP) aumentaram de 16 para 47 casos.** Isso indica que, para garantir que menos casos de diabetes sejam perdidos, o modelo agora tende a classificar mais indivíduos saudáveis como diabéticos. Embora sejam 'alarmes falsos' que podem gerar ansiedade e custos adicionais com exames desnecessários, essa situação é geralmente preferível a um Falso Negativo no cenário de saúde.\n",
        "\n",
        "Consequentemente, o número de **Verdadeiros Positivos (TP) diminuiu de 83 para 49 casos.** Esta redução nos diagnósticos corretos de diabetes pode parecer preocupante à primeira vista. No entanto, é importante entender que essa mudança está intrinsecamente ligada ao aumento dos Falsos Positivos. Se o modelo está predizendo 'diabetes' para mais pessoas, algumas delas (os 47 FPs) são classificadas incorretamente, 'roubando' da contagem de acertos para a classe positiva que antes era mais precisa para os verdadeiros positivos.\n",
        "\n",
        "Em resumo, a nova matriz de confusão sugere que o modelo foi ajustado para ser mais sensível na detecção de diabetes, priorizando a **Sensibilidade (Recall)** à custa da **Precisão** e de alguns Verdadeiros Positivos na classe 1. A escolha de qual cenário é mais desejável dependerá diretamente da gravidade das consequências de cada tipo de erro para a aplicação específica, mas, em contextos de saúde, a minimização de Falsos Negativos é frequentemente a meta primária."
      ],
      "metadata": {
        "id": "3mTM7UFKMDly"
      }
    },
    {
      "cell_type": "markdown",
      "source": [
        "## 11\\. Métricas Avançadas e Visualizações\n",
        "Incluímos a Matriz de Confusão, Curvas ROC, AUC, Precisão-Recall e o estatístico KS para aprofundar a avaliação do modelo.\n"
      ],
      "metadata": {
        "id": "QQS4y1zYGdid"
      }
    },
    {
      "cell_type": "code",
      "source": [
        "print(classification_report(y_test, y_pred_ajustado))"
      ],
      "metadata": {
        "colab": {
          "base_uri": "https://localhost:8080/"
        },
        "id": "irQMh_7kCWDT",
        "outputId": "a96ba201-7129-485e-80ac-4173ad655935"
      },
      "execution_count": 33,
      "outputs": [
        {
          "output_type": "stream",
          "name": "stdout",
          "text": [
            "              precision    recall  f1-score   support\n",
            "\n",
            "           0       0.90      0.53      0.66        99\n",
            "           1       0.51      0.89      0.65        55\n",
            "\n",
            "    accuracy                           0.66       154\n",
            "   macro avg       0.70      0.71      0.66       154\n",
            "weighted avg       0.76      0.66      0.66       154\n",
            "\n"
          ]
        }
      ]
    },
    {
      "cell_type": "markdown",
      "source": [
        "O modelo demonstra uma estratégia clara de **priorizar a Sensibilidade (Recall) para a classe 'diabetes' (0.89)**. Isso é altamente desejável em um cenário de diagnóstico de saúde, onde evitar Falsos Negativos (pacientes com diabetes não diagnosticados) é de suma importância para o tratamento precoce.\n",
        "\n",
        "No entanto, essa alta sensibilidade para a classe 'diabetes' resultou em uma **precisão mais baixa (0.51)** para essa mesma classe e um **recall mais baixo (0.53) para a classe 'não diabetes'**, levando a um número considerável de Falsos Positivos.\n",
        "\n",
        "A decisão de aceitar este *trade-off* (mais alarmes falsos para garantir que poucos casos reais sejam perdidos) é frequentemente justificada em aplicações médicas críticas. O F1-Score geral e a acurácia de 0.66 indicam que, embora o modelo esteja longe da perfeição, ele está funcionando de acordo com essa prioridade de detecção de diabetes."
      ],
      "metadata": {
        "id": "0VfSYy01NAQ6"
      }
    },
    {
      "cell_type": "code",
      "source": [
        "precision, recall, pr_thresholds = precision_recall_curve(y_test, y_proba)\n",
        "ap_score = average_precision_score(y_test, y_proba)\n",
        "\n",
        "plt.figure(figsize=(7, 5))\n",
        "plt.plot(recall, precision, label=f'Curva PR (AP = {ap_score:.2f})')\n",
        "plt.xlabel('Recall')\n",
        "plt.ylabel('Precisão')\n",
        "plt.title('Curva de Precission vs Recall')\n",
        "plt.grid()\n",
        "plt.legend()\n",
        "plt.savefig('Curva_Precisão_Recall.png', bbox_inches='tight')\n",
        "plt.show()\n"
      ],
      "metadata": {
        "colab": {
          "base_uri": "https://localhost:8080/",
          "height": 487
        },
        "id": "Jx8vThanW_k_",
        "outputId": "34da9a65-9f0a-48c9-c404-b3cc183d4df5"
      },
      "execution_count": 42,
      "outputs": [
        {
          "output_type": "display_data",
          "data": {
            "text/plain": [
              "<Figure size 700x500 with 1 Axes>"
            ],
            "image/png": "[encoded data removed]"
          },
          "metadata": {}
        }
      ]
    },
    {
      "cell_type": "markdown",
      "source": [
        "- **A área sob a curva (Average Precision)** resume o desempenho:\n",
        "\n",
        "- **AP > 0.7**: ótimo em problemas de saúde.\n",
        "\n",
        "- Permite avaliar se vale a pena sacrificar precisão para capturar mais positivos (Recall)."
      ],
      "metadata": {
        "id": "yA6juri6YFqp"
      }
    },
    {
      "cell_type": "code",
      "source": [
        "# Probabilidades para a classe positiva (diabetes)\n",
        "y_proba = model.predict_proba(X_test)[:, 1]\n",
        "\n",
        "# Curva ROC\n",
        "fpr, tpr, thresholds = roc_curve(y_test, y_proba)\n",
        "auc_score = roc_auc_score(y_test, y_proba)\n",
        "\n",
        "# Plot\n",
        "plt.figure(figsize=(6, 5))\n",
        "plt.plot(fpr, tpr, label=f'AUC = {auc_score:.2f}')\n",
        "plt.plot([0, 1], [0, 1], 'k--')  # Linha aleatória\n",
        "plt.xlabel('Taxa de Falsos Positivos (1 - Especificidade)')\n",
        "plt.ylabel('Taxa de Verdadeiros Positivos (Recall)')\n",
        "plt.title('Curva ROC')\n",
        "plt.legend()\n",
        "plt.grid()\n",
        "plt.savefig('Curva_ROC_AUC.png', bbox_inches='tight')\n",
        "plt.show()\n",
        "\n",
        "print(f\"Área sob a curva ROC (AUC): {auc_score:.2f}\")"
      ],
      "metadata": {
        "colab": {
          "base_uri": "https://localhost:8080/",
          "height": 505
        },
        "id": "l6DcKlRwrK5T",
        "outputId": "9e622029-7069-4580-8d65-0a666b03ea77"
      },
      "execution_count": 43,
      "outputs": [
        {
          "output_type": "display_data",
          "data": {
            "text/plain": [
              "<Figure size 600x500 with 1 Axes>"
            ],
            "image/png": "[encoded data removed]"
          },
          "metadata": {}
        },
        {
          "output_type": "stream",
          "name": "stdout",
          "text": [
            "Área sob a curva ROC (AUC): 0.82\n"
          ]
        }
      ]
    },
    {
      "cell_type": "markdown",
      "source": [
        "> AUC mede a capacidade do modelo de distinguir entre classes. Quanto maior, melhor a discriminação. Um AUC de 0.82 podemos considerar Excelente"
      ],
      "metadata": {
        "id": "D4kEf1kGzEDA"
      }
    },
    {
      "cell_type": "code",
      "source": [
        "# Separar probabilidades por classe real\n",
        "proba_1 = y_proba[y_test == 1]  # diabéticos\n",
        "proba_0 = y_proba[y_test == 0]  # não diabéticos\n",
        "\n",
        "# Estatística KS\n",
        "ks_stat, ks_p = stats.ks_2samp(proba_1, proba_0)\n",
        "print(f\"KS: {ks_stat:.2f}\")"
      ],
      "metadata": {
        "colab": {
          "base_uri": "https://localhost:8080/"
        },
        "id": "ObS6F6cBrt9k",
        "outputId": "00e49835-d756-4a3e-df73-e70e7861eccb"
      },
      "execution_count": 36,
      "outputs": [
        {
          "output_type": "stream",
          "name": "stdout",
          "text": [
            "KS: 0.51\n"
          ]
        }
      ]
    },
    {
      "cell_type": "markdown",
      "source": [
        "> O KS mede a separação máxima entre as distribuições de probabilidade das duas classes. Um KS de 0.51 podemos considerar uma boa separação"
      ],
      "metadata": {
        "id": "HsXy8AGAzQIW"
      }
    },
    {
      "cell_type": "code",
      "source": [
        "# Acessar o estimador final do pipeline (LogisticRegression)\n",
        "logistic_reg_model = model.named_steps['logisticregression']\n",
        "\n",
        "# Obter os coeficientes\n",
        "coefficients = logistic_reg_model.coef_[0] # [0] pois LogisticRegression.coef_ é um array 2D para multiclasse, mas 1D para binário.\n",
        "intercept = logistic_reg_model.intercept_[0]\n",
        "\n",
        "# Criar um DataFrame para visualização clara\n",
        "# As colunas de X são as features originais\n",
        "feature_names = X.columns\n",
        "\n",
        "coef_df = pd.DataFrame({\n",
        "    'Feature': feature_names,\n",
        "    'Coefficient': coefficients\n",
        "})\n",
        "\n",
        "# Opcional: Calcular Odds Ratio\n",
        "coef_df['Odds Ratio'] = np.exp(coef_df['Coefficient'])\n",
        "\n",
        "# Ordenar por valor absoluto do coeficiente para ver as mais importantes\n",
        "coef_df['Abs_Coefficient'] = np.abs(coef_df['Coefficient'])\n",
        "coef_df = coef_df.sort_values(by='Abs_Coefficient', ascending=False)\n",
        "\n",
        "print(\"--- Coeficientes do Modelo de Regressão Logística (após RobustScaler) ---\")\n",
        "print(coef_df[['Feature', 'Coefficient', 'Odds Ratio']].round(4))\n",
        "\n",
        "print(f\"\\nIntercepto (constante): {intercept:.4f}\")\n"
      ],
      "metadata": {
        "colab": {
          "base_uri": "https://localhost:8080/"
        },
        "id": "iz506ei8O6x1",
        "outputId": "7fdcac65-d649-4355-be5b-db5cddb3698c"
      },
      "execution_count": 37,
      "outputs": [
        {
          "output_type": "stream",
          "name": "stdout",
          "text": [
            "--- Coeficientes do Modelo de Regressão Logística (após RobustScaler) ---\n",
            "                    Feature  Coefficient  Odds Ratio\n",
            "1                   Glucose       1.3948      4.0342\n",
            "5                       BMI       0.8449      2.3277\n",
            "7                       Age       0.5622      1.7545\n",
            "0               Pregnancies       0.3219      1.3797\n",
            "6  DiabetesPedigreeFunction       0.2206      1.2468\n",
            "2             BloodPressure      -0.1870      0.8295\n",
            "3             SkinThickness       0.1448      1.1559\n",
            "4                   Insulin      -0.0870      0.9167\n",
            "\n",
            "Intercepto (constante): -1.3027\n"
          ]
        }
      ]
    },
    {
      "cell_type": "markdown",
      "source": [
        "1.  **`Glucose` (Glicose):**\n",
        "\n",
        "      * **Coeficiente: 1.3948 (positivo e o maior em magnitude)**.\n",
        "      * **Odds Ratio: 4.0342**.\n",
        "      * **Interpretação:** A glicose é a feature mais influente. Um aumento em seu valor (mantendo outras constantes) **aumenta fortemente a chance de ter diabetes**. Para cada unidade de aumento na glicose (após ser escalada pelo RobustScaler), as chances de ter diabetes são multiplicadas por aproximadamente 4.03. Isso faz sentido clinicamente, pois níveis elevados de glicose são um indicador direto de diabetes.\n",
        "\n",
        "2.  **`BMI` (Índice de Massa Corporal):**\n",
        "\n",
        "      * **Coeficiente: 0.8449 (positivo)**.\n",
        "      * **Odds Ratio: 2.3277**.\n",
        "      * **Interpretação:** Um BMI mais alto está fortemente associado a um aumento nas chances de diabetes, o que é consistentemente observado na medicina.\n",
        "\n",
        "3.  **`Age` (Idade):**\n",
        "\n",
        "      * **Coeficiente: 0.5622 (positivo)**.\n",
        "      * **Odds Ratio: 1.7545**.\n",
        "      * **Interpretação:** Pessoas mais velhas têm chances significativamente maiores de ter diabetes, o que é um fator de risco conhecido.\n",
        "\n",
        "4.  **`BloodPressure` (Pressão Sanguínea):**\n",
        "\n",
        "      * **Coeficiente: -0.1870 (negativo, mas muito próximo de zero)**.\n",
        "      * **Odds Ratio: 0.8295**.\n",
        "      * **Interpretação:** Este coeficiente é muito pequeno e negativo, indicando que a pressão sanguínea, **neste modelo e após a escala**, tem uma relação muito fraca, ou quase neutra/ligeiramente inversa, com a probabilidade de diabetes. Clinicamente, a pressão alta está associada à diabetes, mas talvez em conjunto com outras features sua contribuição individual direta seja atenuada neste modelo específico ou o range de valores na amostra não tenha um impacto tão grande.\n",
        "\n",
        "5.  **`Insulin` (Insulina):**\n",
        "    * **Coeficiente: -0.0870 (Negativo)**\n",
        "    * **Odds Ratio: 0.9167**\n",
        "    * **Preocupação:** Clinicamente, níveis elevados de insulina (especialmente em jejum ou após teste de tolerância à glicose, que é o que geralmente se espera no dataset Pima) estão **fortemente associados à resistência à insulina e, consequentemente, ao diabetes tipo 2**. Um coeficiente negativo aqui é **contraintuitivo** ou, no mínimo, surpreendente.\n"
      ],
      "metadata": {
        "id": "Iy3BWVTNR4aH"
      }
    },
    {
      "cell_type": "markdown",
      "source": [
        "## 12\\. Conclusão\n",
        "\n"
      ],
      "metadata": {
        "id": "YPQY829IJyoy"
      }
    },
    {
      "cell_type": "markdown",
      "source": [
        "A jornada de construção e avaliação do modelo de Regressão Logística para o diagnóstico de diabetes no dataset Pima Indians revelou um desempenho promissor e um *trade-off* estratégico importante.\n",
        "\n",
        "Após o tratamento cuidadoso dos dados (incluindo a imputação dos valores 'zero' e a verificação de multicolinearidade), o modelo foi treinado e avaliado com foco nas necessidades clínicas.\n",
        "\n",
        "A decisão de ajustar o limiar de classificação para **0.2** foi fundamental e estratégica. Essa mudança resultou em uma **redução significativa dos Falsos Negativos (FNs) de 21 para apenas 6 casos**. Essa minimização de falhas no diagnóstico de pacientes com diabetes é crucial em um contexto médico, onde as consequências de um não-diagnóstico podem ser graves. Essa prioridade se reflete na **Sensibilidade (Recall) notavelmente alta de 0.89 para a classe 'diabetes'**.\n",
        "\n",
        "Como esperado, essa alta sensibilidade acarretou um aumento nos **Falsos Positivos (FPs) de 16 para 47 casos** e uma **diminuição na Precisão para a classe 'diabetes' (0.51)**. Isso indica que, embora o modelo seja mais propenso a identificar diabéticos, ele também gera mais \"alarmes falsos\" em indivíduos saudáveis. Contudo, em cenários de saúde, o custo de um Falso Negativo geralmente supera o de um Falso Positivo.\n",
        "\n",
        "A avaliação com métricas independentes do limiar solidifica o potencial do modelo:\n",
        "\n",
        "* A **Área Sob a Curva ROC (AUC) de 0.82** indica uma boa capacidade discriminatória geral do modelo, sugerindo que ele consegue distinguir razoavelmente bem entre pacientes com e sem diabetes em diferentes limiares. Um valor acima de 0.8 é geralmente considerado um bom desempenho.\n",
        "* A **Área Sob a Curva de Precisão-Recall (PR AUC) de 0.71** é particularmente relevante para o problema, pois reflete o balanço entre Precisão e Recall, e é mais informativa para classes desbalanceadas. Um valor de 0.71 para PR AUC, considerando a natureza do problema e o desbalanceamento, indica que o modelo mantém um desempenho razoável mesmo ao tentar ser mais sensível.\n",
        "* O **Estatístico KS de 0.51** demonstra que o modelo tem uma capacidade moderada a boa de separar as distribuições de probabilidade das duas classes. Um valor de 0.51 sugere que há uma distinção clara entre as pontuações atribuídas às classes positiva e negativa.\n",
        "\n",
        "Em suma, o modelo, com o limiar ajustado para 0.2, está bem-posicionado para uma aplicação de diagnóstico de diabetes. Ele prioriza a detecção de casos reais, apresentando uma boa capacidade discriminatória geral e uma separação razoável entre as classes, mesmo que isso signifique lidar com um número maior de Falsos Positivos. A performance atual parece ser um bom ponto de partida, alinhado com a necessidade clínica de minimizar riscos de não tratamento."
      ],
      "metadata": {
        "id": "_1Jy5qvatlO0"
      }
    },
    {
      "cell_type": "markdown",
      "source": [
        "## 13\\. Próximos Passos"
      ],
      "metadata": {
        "id": "GqGj4RL24NKg"
      }
    },
    {
      "cell_type": "markdown",
      "source": [
        "Para continuar aprimorando e validando o modelo de diagnóstico de diabetes, o próximos passos concisos são:\n",
        "\n",
        "1. **Análise Quatitativa dos Erros**:\n",
        "  - **Ivestigar Falso Positivos (47 casos)**: Analisar as características comuns desses pacientes saúdaveis classificados como diabéticos.\n",
        "  - **Ivestigar Falsos Negativos (6 casos)**: Analisar as características dos pacientes diabéticos não diagnosticados.\n",
        "2. **Otimização dos Hiperparâmetros**:\n",
        "  - Ajustar o parâmetro `C` da `LogisticRegression`, usando Grid Search ou Random Search com validação cruzada para buscar um melhor balanço entre as métricas.\n",
        "3. **Exploração de Outros Modelos**:\n",
        "  - Testar outros algoritmos de classificação (e.g, Random Forest, XGboost) para comparar o desempelho e o potencial de molhoria, principalmente para ver se `Insulin` e `SkinThickness` ganham importância e/ou têm o sinal esperado. Se sim, isso indicaria que a relação não é linear."
      ],
      "metadata": {
        "id": "IhCZxcW45dG5"
      }
    }
  ]
}